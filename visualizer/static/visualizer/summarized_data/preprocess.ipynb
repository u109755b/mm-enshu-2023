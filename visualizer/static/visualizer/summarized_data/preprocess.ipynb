{
 "cells": [
  {
   "cell_type": "markdown",
   "metadata": {},
   "source": [
    "### 生成されたall_data.jsonに画像のパスを追記するためのプログラム．\n",
    "#### このプログラムはgutenbergIDを冠したディレクトリと同階層に存在する想定で作成している．"
   ]
  },
  {
   "cell_type": "code",
   "execution_count": 7,
   "metadata": {},
   "outputs": [],
   "source": [
    "import json\n",
    "import re\n",
    "\n",
    "def sanitize_directory_name(name):\n",
    "    \"\"\"Sanitize the directory name by replacing or removing invalid characters.\"\"\"\n",
    "    # Replace spaces with underscores and remove other non-alphanumeric characters\n",
    "    return re.sub(r'[^a-zA-Z0-9_]', '', name.replace(' ', '_'))\n",
    "\n",
    "def add_image_path(objs, gutenberg_id):\n",
    "    for obj in objs:\n",
    "        if \"subSection\" in obj:  # This is a folderData\n",
    "            add_image_path(obj[\"subSection\"], gutenberg_id)\n",
    "        elif \"nodes\" in obj:  # This is a fileData\n",
    "            section_name = sanitize_directory_name(obj[\"sectionName\"])\n",
    "            for node in obj[\"nodes\"]:\n",
    "                node_label = sanitize_directory_name(node['label'])\n",
    "                image_path = f'/static/visualizer/summarized_data/{gutenberg_id}/sample0/images/{section_name}/{node_label}.png'\n",
    "                node['image'] = image_path\n",
    "        else:\n",
    "            print(\"Unknown object type found in the data.\")\n",
    "\n",
    "def process_files(gutenbergID):\n",
    "    for id in gutenbergID:\n",
    "        file_path = f'./{str(id)}/sample0/all_data.json'\n",
    "        try:\n",
    "            with open(file_path, 'r', encoding='utf-8') as file:\n",
    "                data = json.load(file)\n",
    "                add_image_path(data, id)\n",
    "                # Save the modified data\n",
    "                with open(file_path, 'w', encoding='utf-8') as outfile:\n",
    "                    json.dump(data, outfile, ensure_ascii=False, indent=4)\n",
    "        except FileNotFoundError:\n",
    "            print(f\"File not found: {file_path}\")\n",
    "\n",
    "if __name__ == \"__main__\":\n",
    "    gutenbergID = [11, 12, 16, 35, 120, 146, 164, 829, 1257, 1661, 18155]\n",
    "    process_files(gutenbergID)\n"
   ]
  }
 ],
 "metadata": {
  "kernelspec": {
   "display_name": "Python 3",
   "language": "python",
   "name": "python3"
  },
  "language_info": {
   "codemirror_mode": {
    "name": "ipython",
    "version": 3
   },
   "file_extension": ".py",
   "mimetype": "text/x-python",
   "name": "python",
   "nbconvert_exporter": "python",
   "pygments_lexer": "ipython3",
   "version": "3.9.0"
  }
 },
 "nbformat": 4,
 "nbformat_minor": 2
}
