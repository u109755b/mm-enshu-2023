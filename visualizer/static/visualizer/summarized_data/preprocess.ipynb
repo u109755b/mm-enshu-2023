{
 "cells": [
  {
   "cell_type": "code",
   "execution_count": 12,
   "metadata": {},
   "outputs": [],
   "source": [
    "import json\n",
    "\n",
    "# ノードの \"image\" 属性を更新する関数\n",
    "def update_image_in_nodes(obj, string_to_prepend):\n",
    "    for item in obj:\n",
    "        if 'subSection' in item:\n",
    "            update_image_in_nodes(item['subSection'], string_to_prepend)\n",
    "        elif 'nodes' in item:\n",
    "            update_image_in_nodes(item['nodes'], string_to_prepend)\n",
    "        else:\n",
    "            # \"image\" キーが存在し、指定された文字列が含まれていない場合、先頭に追加\n",
    "            if 'image' in item and not item['image'].startswith(string_to_prepend):\n",
    "                item['image'] = string_to_prepend + item['image']\n",
    "\n",
    "# JSONファイルを読み込み、ノードの \"image\" 属性を更新\n",
    "def update_image_in_json_file(file_path, string_to_prepend):\n",
    "    try:\n",
    "        with open(file_path, 'r+') as f:  # r+ は読み書きの両方を意味します\n",
    "            data = json.load(f)\n",
    "            if isinstance(data, list):\n",
    "                update_image_in_nodes(data, string_to_prepend)\n",
    "                # ファイルの内容を更新\n",
    "                f.seek(0)  # ファイルの先頭に移動\n",
    "                json.dump(data, f, indent=4)  # JSONデータをファイルに書き込む\n",
    "                f.truncate()  # ファイルを現在のサイズに切り詰める\n",
    "    except FileNotFoundError:\n",
    "        print(f\"File not found: {file_path}\")\n",
    "    except json.JSONDecodeError:\n",
    "        print(f\"Error decoding JSON from file: {file_path}\")\n",
    "    except Exception as e:\n",
    "        print(f\"An error occurred: {e}\")\n",
    "\n",
    "# # 使用例\n",
    "# gutenbergID = [11]\n",
    "# string_to_prepend = \"http://example.com/\"\n",
    "\n",
    "# for i in gutenbergID:\n",
    "#     target_json_path = f'./{str(i)}/sample0/all_data.json'\n",
    "#     update_image_in_json_file(target_json_path, string_to_prepend)\n"
   ]
  },
  {
   "cell_type": "code",
   "execution_count": 13,
   "metadata": {},
   "outputs": [],
   "source": [
    "gutenbergID = [11, 12, 16, 35, 120, 146, 164, 829, 1257, 1661, 18155]\n",
    "# gutenbergID = ['11_test']\n",
    "\n",
    "for i in gutenbergID:\n",
    "    target_json_path = f'./{str(i)}/sample0/all_data.json'\n",
    "    \n",
    "    strings_want_to_add = f'/static/visualizer/summarized_data/{str(i)}/sample0/images/'\n",
    "    \n",
    "    # load json\n",
    "    with open(target_json_path, 'r') as f:\n",
    "        data = json.load(f)\n",
    "    \n",
    "    update_image_in_json_file(target_json_path, strings_want_to_add)"
   ]
  }
 ],
 "metadata": {
  "kernelspec": {
   "display_name": "Python 3",
   "language": "python",
   "name": "python3"
  },
  "language_info": {
   "codemirror_mode": {
    "name": "ipython",
    "version": 3
   },
   "file_extension": ".py",
   "mimetype": "text/x-python",
   "name": "python",
   "nbconvert_exporter": "python",
   "pygments_lexer": "ipython3",
   "version": "3.9.0"
  }
 },
 "nbformat": 4,
 "nbformat_minor": 2
}
