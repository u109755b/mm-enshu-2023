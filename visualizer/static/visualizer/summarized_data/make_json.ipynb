{
 "cells": [
  {
   "cell_type": "markdown",
   "metadata": {
    "id": "rDn05v1o0oHQ"
   },
   "source": [
    "物語IDを選択\n",
    "\n",
    "### 対象物語 (随時追加予定)\n",
    "| num | gutenbergID | name | #words | condition |\n",
    "| ---- | ---- | ---- | ---- | ---- |\n",
    "| 1 | 18155 | The Story of the Three Little Pigs | 960 | fin |\n",
    "| 2 | 1661 | The Adventures of Sherlock Holmes\\* | 8,520 | fin |\n",
    "| 3 | 11 |  Alice's Adventures in Wonderland by Lewis Carroll | 26,520 | fin |\n",
    "| 4 | 120 | TREASURE ISLAND | 67,870 | fin |\n",
    "| 5 | 829 | GULLIVER'S TRAVELS | 105,080 | fin |\n",
    "| 6 | 12 | Through the Looking-Glass by Lewis Carroll | 29,256 | fin |\n",
    "| 7 | 35 | The Time Machine by H. G. Wells\\** | 32,376 | fin |\n",
    "| 8 | 16 | Peter Pan by J. M. Barrie | 47,112 | fin |\n",
    "| 9 | 146 | A Little Princess by Frances Hodgson Burnett | 66,264 | fin |\n",
    "| 10 | 164 | Twenty Thousand Leagues under the Sea by Jules Verne\\** | 104,335 | fin |\n",
    "| 11 | 521 | ~~The Life and Adventures of Robinson Crusoe by Daniel Defoe~~\\*** | 120,792 | fin |\n",
    "| 12 | 1257 | The three musketeers by Alexandre Dumas and Auguste Maquet | 228,997 | fin |\n",
    "\n"
   ]
  },
  {
   "cell_type": "code",
   "execution_count": 1,
   "metadata": {
    "id": "zJvOMJYsEdrY"
   },
   "outputs": [],
   "source": [
    "#インポート\n",
    "import glob\n",
    "from tqdm import tqdm\n",
    "import itertools\n",
    "import os\n",
    "import json\n",
    "import difflib\n",
    "import Levenshtein\n",
    "import textwrap\n",
    "from difflib import SequenceMatcher"
   ]
  },
  {
   "cell_type": "code",
   "execution_count": 2,
   "metadata": {},
   "outputs": [
    {
     "name": "stdout",
     "output_type": "stream",
     "text": [
      "0.625\n",
      "0.25\n"
     ]
    }
   ],
   "source": [
    "print(SequenceMatcher(None, 'Dinah (cat)', 'Dinah').ratio())\n",
    "print(SequenceMatcher(None, 'Dinah (cat)', 'Alice').ratio())"
   ]
  },
  {
   "cell_type": "code",
   "execution_count": 3,
   "metadata": {},
   "outputs": [],
   "source": [
    "os.chdir('log')"
   ]
  },
  {
   "cell_type": "code",
   "execution_count": 4,
   "metadata": {
    "id": "ohJuAfOncUZS"
   },
   "outputs": [],
   "source": [
    "#IDと物語名の辞書を構築しておく\n",
    "story_d={\n",
    "    \"The Story of the Three Little Pigs\":'18155',\n",
    "    \"The Adventures of Sherlock Holmes\":'1661',\n",
    "    \"Alice's Adventures in Wonderland\":'11',\n",
    "    \"Treasure Island\":'120',\n",
    "    \"Gulliver's Travels\":'829',\n",
    "    \"Through the Looking-Glass\":\"12\",\n",
    "    \"The Time Machine\":\"35\",\n",
    "    \"Peter Pan\":\"16\",\n",
    "    \"A Little Princess\":\"146\",\n",
    "    \"Twenty Thousand Leagues under the Sea\":\"164\",\n",
    "    \"The Three Musketeers\":\"1257\",\n",
    "}"
   ]
  },
  {
   "cell_type": "code",
   "execution_count": 5,
   "metadata": {
    "id": "LPu2sody0krA"
   },
   "outputs": [],
   "source": [
    "#物語タイトルによりここを変更\n",
    "title_name=\"Alice's Adventures in Wonderland\""
   ]
  },
  {
   "cell_type": "code",
   "execution_count": 6,
   "metadata": {
    "id": "s5foOfkIlwlu"
   },
   "outputs": [],
   "source": [
    "ID=story_d[title_name]"
   ]
  },
  {
   "cell_type": "markdown",
   "metadata": {
    "id": "YxrRDo92CZQM"
   },
   "source": [
    "テキストファイルから情報を抽出  \n",
    "全ての物語でこのプログラムを動かしたら抽出できるようにする"
   ]
  },
  {
   "cell_type": "code",
   "execution_count": 7,
   "metadata": {
    "id": "yA7hoOEpIcoF"
   },
   "outputs": [],
   "source": [
    "#可変の変数\n",
    "size_magnification = 30 #サイズの倍率(変数)10 重要度とかける\n",
    "image_min_size=15 #画像の最小サイズ\n",
    "max_edge_label_len=40 #edgeのlabelの文字数を最大何文字にするか\n",
    "\n",
    "#sample0について実行\n",
    "sample_file='sample0'"
   ]
  },
  {
   "cell_type": "code",
   "execution_count": 8,
   "metadata": {
    "colab": {
     "base_uri": "https://localhost:8080/"
    },
    "id": "AvHlxyVVH3M1",
    "outputId": "bb838116-0a91-4ffd-86d2-8f237ff2674a"
   },
   "outputs": [
    {
     "name": "stdout",
     "output_type": "stream",
     "text": [
      "12\n"
     ]
    }
   ],
   "source": [
    "#事前に変数定義\n",
    "node_list=[]\n",
    "edge_list=[]\n",
    "summary_list=[]\n",
    "chapter_name_list=[]\n",
    "section_name_list=[]\n",
    "summarized_data=[]\n",
    "\n",
    "section_json_flag=-1\n",
    "\n",
    "\n",
    "#分割数をカウント（divide_count）\n",
    "divide_count=len(glob.glob(f'./{ID}/body_scene*.txt', recursive=False))\n",
    "print(divide_count)"
   ]
  },
  {
   "cell_type": "code",
   "execution_count": 9,
   "metadata": {
    "id": "00UNnwaQIhNG"
   },
   "outputs": [],
   "source": [
    "#chapter_listの作成（章と節がともに存在する場合のみ）\n",
    "#章が何番で区切られているか確認してリストを作成(話によって異なる)\n",
    "if ID=='120':\n",
    "  chapter_list=[0,6,12,15,21,27]\n",
    "  section_json_flag=1\n",
    "\n",
    "elif ID=='1661':\n",
    "  chapter_list=[0]\n",
    "  section_json_flag=1\n",
    "\n",
    "elif ID=='829':\n",
    "  #partが一番大きなくくり，次点がchapterなので，part→chapter,chapter→sectionに対応させる\n",
    "  chapter_list=[0,1,2,10,18,29]\n",
    "  section_json_flag=1\n",
    "\n",
    "elif ID=='164':\n",
    "  #partが一番大きなくくり，次点がchapterなので，part→chapter,chapter→sectionに対応させる\n",
    "  chapter_list=[0,23]\n",
    "  section_json_flag=1\n",
    "\n",
    "else:\n",
    "   chapter_list=[0]"
   ]
  },
  {
   "cell_type": "markdown",
   "metadata": {
    "id": "2utF90u8FV0s"
   },
   "source": [
    "# 処理を関数化する"
   ]
  },
  {
   "cell_type": "markdown",
   "metadata": {
    "id": "Yziy-S5hF-d_"
   },
   "source": [
    "## 章，節名の抽出"
   ]
  },
  {
   "cell_type": "markdown",
   "metadata": {
    "id": "35hTEfmZOD2Q"
   },
   "source": [
    "### sectionがある場合"
   ]
  },
  {
   "cell_type": "code",
   "execution_count": 10,
   "metadata": {
    "id": "MYK_u-SrDjgi"
   },
   "outputs": [],
   "source": [
    "#物語ことに処理を追加（手動）\n",
    "\n",
    "def create_section(ID,divide_count,chapter_list,chapter_name_list,section_name_list):\n",
    "  chapter_num=0 #章番号\n",
    "  section_num=0 #節番号\n",
    "\n",
    "  for i in range(divide_count):\n",
    "    chapter_file = open(f'{ID}/body_scene{i}.txt', 'r', encoding=\"utf-8\")\n",
    "    lines = chapter_file.readlines()\n",
    "\n",
    "    #section_nameの決定(IDごとに異なる)\n",
    "    if ID=='120':\n",
    "      #章になっているとき\n",
    "      if i in chapter_list:\n",
    "        chapter_name=lines[0].strip() #ファイルの最初の行をchapter_titleとする\n",
    "        chapter_name_list.append(chapter_name)\n",
    "\n",
    "        #章を更新すると，節の番号はリセット\n",
    "        chapter_num+=1\n",
    "        section_num=1\n",
    "\n",
    "        #章があるときは三行目に節タイトル\n",
    "        section_name=f'chapter{chapter_num}_{section_num} {i+1} {lines[2].strip()}'\n",
    "\n",
    "      else:\n",
    "        #章タイトルがないとき\n",
    "        #節のタイトルは2行目\n",
    "        section_num+=1\n",
    "        section_name=f'chapter{chapter_num}_{section_num} {i+1} {lines[1].strip()}'\n",
    "\n",
    "    elif ID=='1661':\n",
    "      #章になっているとき\n",
    "      if i in chapter_list:\n",
    "        chapter_name=lines[0].strip() #ファイルの最初の行をchapter_titleとする\n",
    "        chapter_name_list.append(chapter_name)\n",
    "        #章を更新すると，節の番号はリセット\n",
    "        chapter_num+=1\n",
    "        section_num=1\n",
    "      #節のタイトルは適当に付ける\n",
    "      section_name=f'section{chapter_num}_{section_num}'\n",
    "      section_num+=1\n",
    "\n",
    "    elif ID=='829':\n",
    "      if i in chapter_list:\n",
    "        chapter_name=lines[0].strip() #ファイルの最初の行をchapter_titleとする\n",
    "        chapter_name_list.append(chapter_name)\n",
    "        #章を更新すると，節の番号はリセット\n",
    "        chapter_num+=1\n",
    "        section_num=1\n",
    "        #0番目と1番目が少し特殊なので場合分け\n",
    "        if i==0 or i==1:\n",
    "          section_name=f'chapter{chapter_num}_{section_num}'\n",
    "        else:\n",
    "          #章があるときは2行目に節タイトル\n",
    "          section_name=f'chapter{chapter_num}_{section_num} {lines[1].strip()}'\n",
    "      else:\n",
    "        # 章タイトルがないとき\n",
    "        #節のタイトルは1行目\n",
    "        section_name=f'chapter{chapter_num}_{section_num} {lines[0].strip()}'\n",
    "        section_num+=1\n",
    "        \n",
    "    \n",
    "    elif ID=='164':\n",
    "      if i in chapter_list:\n",
    "        chapter_name=lines[0].strip() #ファイルの最初の行をchapter_titleとする\n",
    "        chapter_name_list.append(chapter_name)\n",
    "        #章があるときは2行目に節タイトル\n",
    "        section_name=lines[1].strip()\n",
    "      else:\n",
    "        #章がないときは1行目に節タイトル\n",
    "        section_name=lines[0].strip()\n",
    "\n",
    "    #節名を追加\n",
    "    section_name_list.append(section_name)"
   ]
  },
  {
   "cell_type": "markdown",
   "metadata": {
    "id": "IQStTTL7GosD"
   },
   "source": [
    "### sectionがない場合"
   ]
  },
  {
   "cell_type": "code",
   "execution_count": 11,
   "metadata": {
    "id": "Wcwoj9qYGvKS"
   },
   "outputs": [],
   "source": [
    "def create_non_section(ID,divide_count,chapter_name_list):\n",
    "  if ID=='18155':\n",
    "    chapter_name_list.append('Chapter1')\n",
    "  elif (ID=='35') or (ID=='146'):\n",
    "    for i in range(divide_count):\n",
    "      #chapter_nameの決定\n",
    "      chapter_file = open(f'{ID}/body_scene{i}.txt', 'r', encoding=\"utf-8\")\n",
    "      lines = chapter_file.readlines()\n",
    "      chapter_name=f\"{lines[0].strip()} {lines[1].strip()}\"#ファイルの最初の行と2行目を合わせたものをchapter_titleとする\n",
    "      chapter_name_list.append(chapter_name)\n",
    "  else: #11,12,16,1257\n",
    "    for i in range(divide_count):\n",
    "      #chapter_nameの決定\n",
    "      chapter_file = open(f'{ID}/body_scene{i}.txt', 'r', encoding=\"utf-8\")\n",
    "      lines = chapter_file.readlines()\n",
    "      chapter_name=lines[0].strip() #ファイルの最初の行をchapter_titleとする\n",
    "      chapter_name_list.append(chapter_name)"
   ]
  },
  {
   "cell_type": "markdown",
   "metadata": {
    "id": "8MqON6IMJrRP"
   },
   "source": [
    "## nodeとedgeの処理"
   ]
  },
  {
   "cell_type": "code",
   "execution_count": 12,
   "metadata": {
    "id": "GiIQcb9MJPfg"
   },
   "outputs": [],
   "source": [
    "def create_node_edge(ID,divide_count,node_list,edge_list,sample_file='sample0',size_magnification =10,image_min_size=20):\n",
    "  node_id_num=0\n",
    "  edge_id_num=0\n",
    "\n",
    "  for i in range(divide_count):\n",
    "    node_list_i=[]\n",
    "    edge_list_i=[]\n",
    "\n",
    "    #nodeについての処理\n",
    "    node_file = open(f'./{ID}/{sample_file}/node_scene{i}.txt', 'r', encoding=\"utf-8\")\n",
    "    lines = node_file.readlines()    \n",
    "    \n",
    "    for j in range(len(lines)):\n",
    "      line=lines[j]\n",
    "      #左から分割\n",
    "      lists = line.split(',',1)\n",
    "\n",
    "      #右から分割\n",
    "      r_lists=lists[1].rsplit(',',1)\n",
    "\n",
    "      #抽出\n",
    "      label = lists[0].strip()\n",
    "      title=r_lists[0].strip()\n",
    "      \n",
    "      #nodeのtitleが長すぎる箇所は改行\n",
    "      #edge_titleが長すぎる場合に改行\n",
    "      node_title_list=textwrap.wrap(title,100)\n",
    "      title='<br>'.join(node_title_list)\n",
    "\n",
    "\n",
    "      #重要度がしっかりしていない箇所がある（その場合重要度0）\n",
    "      try:\n",
    "        important_rate=float(r_lists[1].strip())\n",
    "\n",
    "      except ValueError:\n",
    "        important_rate=0\n",
    "\n",
    "      #サイズはimportant_rateを基に決定\n",
    "      size=int(image_min_size+important_rate*size_magnification)\n",
    "\n",
    "      #辞書化する(idは適当に番号文字列)\n",
    "      node_d={\n",
    "          \"id\":f'node_id{node_id_num}',\n",
    "          \"label\":label,\n",
    "          \"title\":title,\n",
    "          \"size\":size,\n",
    "        }\n",
    "\n",
    "      node_list_i.append(node_d)\n",
    "\n",
    "      node_id_num+=1\n",
    "\n",
    "\n",
    "    #nodeの統合処理をするならここで処理\n",
    "\n",
    "    #全体のリストに追加\n",
    "    node_list.append(node_list_i)\n",
    "\n",
    "\n",
    "    #edgeについての処理\n",
    "    edge_file = open(f'./{ID}/{sample_file}/edge_scene{i}.txt', 'r', encoding=\"utf-8\")\n",
    "    lines = edge_file.readlines()\n",
    "        \n",
    "\n",
    "    for j in range(len(lines)):\n",
    "      line=lines[j]\n",
    "      #左から分割\n",
    "      lists = line.split(',',1)\n",
    "\n",
    "      lists2=lists[1].split(',',1)\n",
    "\n",
    "      lists3=lists2[1].split(',',1)\n",
    "\n",
    "\n",
    "      #抽出\n",
    "      edge_from = lists[0].strip()\n",
    "      edge_to = lists2[0].strip()\n",
    "      edge_label=lists3[0].strip()\n",
    "      edge_title=lists3[1].strip()\n",
    "      \n",
    "      #以下edge_labelの例外処理\n",
    "      #edge_labelに / が含まれる場合その前だけ出力\n",
    "      if '/' in edge_label:\n",
    "        edge_label=edge_label.split('/')[0]\n",
    "      #edge_labelに & が含まれる場合その前だけ出力\n",
    "      if '&' in edge_label:\n",
    "        edge_label=edge_label.split('&')[0]\n",
    "      #edge_labelが長すぎる場合に省略(字数制限)\n",
    "      edge_label=textwrap.shorten(edge_label, max_edge_label_len, placeholder='~')\n",
    "        \n",
    "      #edge_titleが長すぎる場合に改行\n",
    "      edge_title_list=textwrap.wrap(edge_title,100)\n",
    "      edge_title='<br>'.join(edge_title_list)\n",
    "\n",
    "\n",
    "      #from と to　を示すものが nodeにあるか確認\n",
    "      #あった場合そのidを抽出し，edge_from_idとedge_to_idに与える\n",
    "      from_flag=0\n",
    "      to_flag=0\n",
    "\n",
    "      for k in range(len(node_list_i)):\n",
    "        #node_list_i[k]は辞書を表す\n",
    "        if (from_flag==0) and (node_list_i[k]['label']==edge_from):\n",
    "          edge_from_id= node_list_i[k]['id']\n",
    "          from_flag=1\n",
    "\n",
    "\n",
    "        if (to_flag==0) and (node_list_i[k]['label']==edge_to):\n",
    "          edge_to_id= node_list_i[k]['id']\n",
    "          to_flag=1\n",
    "        \n",
    "        if from_flag ==1 and to_flag==1:\n",
    "            break\n",
    "\n",
    "      #どちらかなかったら近いnodeを類似度により探す\n",
    "      if (from_flag==0):\n",
    "        max_similarity = 0\n",
    "        for k in range(len(node_list_i)):  \n",
    "            dist = SequenceMatcher(None,edge_from,node_list_i[k]['label']).ratio()\n",
    "            if max_similarity < dist:\n",
    "                max_similarity=dist\n",
    "                edge_from_id = node_list_i[k]['id']\n",
    "        \n",
    "      if (to_flag==0):\n",
    "         max_similarity = 0\n",
    "         for k in range(len(node_list_i)):  \n",
    "             dist = SequenceMatcher(None,edge_to,node_list_i[k]['label']).ratio()\n",
    "             if max_similarity <= dist:\n",
    "                 max_similarity=dist\n",
    "                 edge_to_id = node_list_i[k]['id']\n",
    "        \n",
    "            \n",
    "        \n",
    "        \n",
    "      #過去に出てきた例とedge_from_idとedge_to_idが完全一致してしまった場合\n",
    "      #edge_labelは最初の1つだけ使用，edge_titleは<br>でくっつける\n",
    "      match_flag=0\n",
    "      for k in range(len(edge_list_i)):\n",
    "        #edge_list_i[k]は辞書を表す\n",
    "        if (edge_list_i[k]['from']==edge_from_id) and (edge_list_i[k]['to']==edge_to_id):\n",
    "            if edge_list_i[k]['title'][0] !='･':\n",
    "                 edge_list_i[k]['title']=f\"･ {edge_list_i[k]['title']}\"\n",
    "            edge_list_i[k]['title']= f\"{edge_list_i[k]['title']}<br>･ {edge_title}\"\n",
    "            match_flag=1\n",
    "            break\n",
    "\n",
    "      #過去に出てきた例とedge_from_idとedge_to_idが完全一致しなかった場合\n",
    "      if match_flag==0:\n",
    "        #辞書化する(idは一意の番号文字列,矢印を追加(allows))\n",
    "          edge_d={\n",
    "              \"id\":f'edge_id{edge_id_num}',\n",
    "              \"label\":edge_label,\n",
    "              \"title\":edge_title,\n",
    "              \"from\":edge_from_id,\n",
    "              \"to\":edge_to_id,\n",
    "              \"arrows\": \"to\",\n",
    "            }\n",
    "\n",
    "          #辞書を追加\n",
    "          edge_list_i.append(edge_d)\n",
    "\n",
    "          #edgeのnumを増やす\n",
    "          edge_id_num+=1\n",
    "\n",
    "\n",
    "    #edgeの統合処理をするならここで処理\n",
    "    #edge_list_i内でfrom to と to fromが同じものが存在する場合，矢印をカーブさせる\n",
    "    for pair in itertools.combinations(edge_list_i, 2):\n",
    "      if (pair[0]['from']==pair[1]['to']) and (pair[1]['from']==pair[0]['to']):\n",
    "        f_t=pair[0]['id']\n",
    "        t_f=pair[1]['id']\n",
    "        for j in range(len(edge_list_i)):\n",
    "          if edge_list_i[j]['id']== f_t or t_f:\n",
    "            edge_list_i[j]['smooth']= {\n",
    "                                      \"type\": \"curvedCW\",\n",
    "                                      \"roundness\": 0.3\n",
    "                                  }\n",
    "\n",
    "    #全体のリストに追加\n",
    "    edge_list.append(edge_list_i)"
   ]
  },
  {
   "cell_type": "markdown",
   "metadata": {
    "id": "j1it4CklMHkL"
   },
   "source": [
    "## summaryの処理"
   ]
  },
  {
   "cell_type": "code",
   "execution_count": 13,
   "metadata": {
    "id": "KYJCHZwjLcKK"
   },
   "outputs": [],
   "source": [
    " def create_summary(ID,divide_count,summary_list,sample_file='sample0'):\n",
    "  for i in range(divide_count):\n",
    "    summary_file = open(f'{ID}/{sample_file}/summary.txt', 'r', encoding=\"utf-8\")\n",
    "    lines = summary_file.readlines()\n",
    "    summary=lines[i].strip()\n",
    "    summary_list.append(summary)"
   ]
  },
  {
   "cell_type": "markdown",
   "metadata": {
    "id": "a7EtSU0qPvLx"
   },
   "source": [
    "## 外部ファイルに出力\n"
   ]
  },
  {
   "cell_type": "markdown",
   "metadata": {
    "id": "p6kS_4NqQdY2"
   },
   "source": [
    "### sectionがある場合"
   ]
  },
  {
   "cell_type": "code",
   "execution_count": 14,
   "metadata": {
    "id": "QGxvBwzlQZCY"
   },
   "outputs": [],
   "source": [
    "def section_json(chapter_list,summarized_data):\n",
    "  for i in range(len(chapter_list)):\n",
    "    chapter_summarized_data=[]\n",
    "\n",
    "    #chapterがあるbody_sceneについてその間の節を抜き出していく\n",
    "    if i!=len(chapter_list)-1:\n",
    "      for j in range(chapter_list[i],chapter_list[i+1]):\n",
    "\n",
    "        summarized_file={\n",
    "            \"sectionName\":section_name_list[j],\n",
    "            \"summary\":summary_list[j],\n",
    "            \"nodes\":node_list[j],\n",
    "            \"edges\":edge_list[j],\n",
    "        }\n",
    "\n",
    "        chapter_summarized_data.append(summarized_file)\n",
    "    #chapterがあるbody_sceneについて，最後のchapterからは最後まで\n",
    "    else:\n",
    "      for j in range(chapter_list[i],divide_count):\n",
    "\n",
    "        summarized_file={\n",
    "            \"sectionName\":section_name_list[j],\n",
    "            \"summary\":summary_list[j],\n",
    "            \"nodes\":node_list[j],\n",
    "            \"edges\":edge_list[j],\n",
    "        }\n",
    "\n",
    "        chapter_summarized_data.append(summarized_file)\n",
    "\n",
    "\n",
    "    summarized_folder={\n",
    "        \"sectionName\":chapter_name_list[i],\n",
    "        \"subSection\":chapter_summarized_data,\n",
    "    }\n",
    "\n",
    "    summarized_data.append(summarized_folder)"
   ]
  },
  {
   "cell_type": "markdown",
   "metadata": {
    "id": "bmfSKIe4RlyR"
   },
   "source": [
    "### sectionがない場合"
   ]
  },
  {
   "cell_type": "code",
   "execution_count": 15,
   "metadata": {
    "id": "ftCC0O7JRqlq"
   },
   "outputs": [],
   "source": [
    "def non_section_json(divide_count,summarized_data):\n",
    "  for i in range(divide_count):\n",
    "    summarized_file={\n",
    "        \"sectionName\":chapter_name_list[i],\n",
    "        \"summary\":summary_list[i],\n",
    "        \"nodes\":node_list[i],\n",
    "        \"edges\":edge_list[i],\n",
    "    }\n",
    "\n",
    "    summarized_data.append(summarized_file)"
   ]
  },
  {
   "cell_type": "markdown",
   "metadata": {
    "id": "nMfCZP8aOOKx"
   },
   "source": [
    "# 全体的な処理"
   ]
  },
  {
   "cell_type": "code",
   "execution_count": 16,
   "metadata": {
    "colab": {
     "base_uri": "https://localhost:8080/"
    },
    "id": "HkjsgkKrORBj",
    "outputId": "0ddeac11-f21e-47b3-db51-81a1cbb2440a"
   },
   "outputs": [
    {
     "name": "stdout",
     "output_type": "stream",
     "text": [
      "ID : 11 title : Alice's Adventures in Wonderland\n"
     ]
    }
   ],
   "source": [
    "print(f'ID : {ID} title : {title_name}')\n",
    "\n",
    "if section_json_flag==1:\n",
    "  create_section(ID,divide_count,chapter_list,chapter_name_list,section_name_list)\n",
    "else:\n",
    "  create_non_section(ID,divide_count,chapter_name_list)\n",
    "\n",
    "create_node_edge(ID,divide_count,node_list,edge_list,sample_file,size_magnification,image_min_size)\n",
    "\n",
    "create_summary(ID,divide_count,summary_list,sample_file)\n",
    "\n",
    "if section_json_flag==1:\n",
    "  section_json(chapter_list,summarized_data)\n",
    "else:\n",
    "  non_section_json(divide_count,summarized_data)"
   ]
  },
  {
   "cell_type": "markdown",
   "metadata": {
    "id": "q-r1YpNTfoBX"
   },
   "source": [
    "## 保存"
   ]
  },
  {
   "cell_type": "code",
   "execution_count": 17,
   "metadata": {
    "id": "KIda43RJT6EE"
   },
   "outputs": [],
   "source": [
    "new_dir_path_recursive=f'../summarized_data/{ID}/{sample_file}'\n",
    "os.makedirs(new_dir_path_recursive, exist_ok=True)\n",
    "os.chdir(new_dir_path_recursive)"
   ]
  },
  {
   "cell_type": "code",
   "execution_count": 18,
   "metadata": {
    "id": "aariAVqJTU00"
   },
   "outputs": [],
   "source": [
    "with open(\"all_data.json\", \"w\", encoding=\"utf-8\") as f:\n",
    "    json.dump(summarized_data,f,indent=4)\n",
    "f.close()"
   ]
  },
  {
   "cell_type": "code",
   "execution_count": 19,
   "metadata": {
    "id": "tCiV9oCtTU00"
   },
   "outputs": [],
   "source": [
    "#タイトルを含んだtxtの生成\n",
    "with open(\"../title.txt\", \"w\", encoding=\"utf-8\") as f:\n",
    "    f.write(title_name)\n",
    "f.close()"
   ]
  },
  {
   "cell_type": "markdown",
   "metadata": {
    "id": "JX8YLuU3Ppwt"
   },
   "source": [
    "# 出力の確認"
   ]
  },
  {
   "cell_type": "code",
   "execution_count": 20,
   "metadata": {
    "colab": {
     "base_uri": "https://localhost:8080/"
    },
    "id": "6ZpFYcpqPnpB",
    "outputId": "393afe73-2907-4bfb-b1d1-d500ee792666"
   },
   "outputs": [
    {
     "name": "stdout",
     "output_type": "stream",
     "text": [
      "node_list\n",
      "[[{'id': 'node_id0', 'label': 'Alice', 'title': 'The main character of the story who falls down a rabbit-hole into a fantastical world', 'size': 45}, {'id': 'node_id1', 'label': \"Alice's sister\", 'title': \"Alice's older sister who reads a book without pictures or conversations\", 'size': 27}, {'id': 'node_id2', 'label': 'White Rabbit', 'title': 'A talking rabbit with pink eyes and a waistcoat who Alice follows down the rabbit-hole', 'size': 39}, {'id': 'node_id3', 'label': 'Dinah', 'title': \"Alice's cat who she thinks about during her fall down the rabbit-hole\", 'size': 24}], [{'id': 'node_id4', 'label': 'Alice', 'title': 'The main character, who experiences size changes and adventures in a fantastical world', 'size': 45}, {'id': 'node_id5', 'label': 'White Rabbit', 'title': 'A character who Alice follows into Wonderland, prompting her adventures', 'size': 39}, {'id': 'node_id6', 'label': 'Duchess', 'title': 'Mentioned by the White Rabbit, a character that Alice thinks about encountering', 'size': 30}, {'id': 'node_id7', 'label': 'Ada', 'title': 'A child Alice knows, used by Alice to assert her own identity', 'size': 24}, {'id': 'node_id8', 'label': 'Mabel', 'title': 'Another child known to Alice, contrasted with Alice to help her determine her own identity', 'size': 24}, {'id': 'node_id9', 'label': 'Mouse', 'title': 'A small creature that Alice encounters while swimming in the pool of tears', 'size': 36}], [{'id': 'node_id10', 'label': 'Alice', 'title': 'A young girl who finds herself talking with animals and attending a whimsical gathering', 'size': 45}, {'id': 'node_id11', 'label': 'Lory', 'title': 'A sulky character in the story that has an argument with Alice about its age', 'size': 36}, {'id': 'node_id12', 'label': 'Mouse', 'title': 'A character who seems to be an authority among the assembled creatures, leads the meeting, and<br>shares a long history', 'size': 42}, {'id': 'node_id13', 'label': 'Dodo', 'title': 'A character that suggests a Caucus-race to get everyone dry and adjudicates that everyone has won<br>the race', 'size': 39}, {'id': 'node_id14', 'label': 'Eaglet', 'title': \"A character that challenges the Dodo's use of complex words and takes part in the Caucus-race\", 'size': 33}, {'id': 'node_id15', 'label': 'Duck', 'title': \"Another attendee of the meeting, who inquires about the Mouse's story regarding an archbishop\", 'size': 33}, {'id': 'node_id16', 'label': 'Dinah', 'title': \"Alice's cat, not directly involved in the scene but mentioned by Alice, causing a stir among the<br>animal attendees\", 'size': 30}, {'id': 'node_id17', 'label': 'Old Crab', 'title': 'A character that speaks to her daughter about maintaining composure', 'size': 27}, {'id': 'node_id18', 'label': 'Young Crab', 'title': 'The daughter of the Old Crab who responds snappishly', 'size': 27}, {'id': 'node_id19', 'label': 'Magpie', 'title': 'A bird that leaves the gathering early, cautious of night air affecting its throat', 'size': 24}, {'id': 'node_id20', 'label': 'Canary', 'title': \"A bird that also leaves after becoming alarmed by Alice's mention of her cat\", 'size': 24}], [{'id': 'node_id21', 'label': 'White Rabbit', 'title': 'A nervous character anxious about displeasing the Duchess', 'size': 37}, {'id': 'node_id22', 'label': 'Alice', 'title': 'The young protagonist of the story who experiences the whimsical world around her', 'size': 45}, {'id': 'node_id23', 'label': 'The Duchess', 'title': 'Mentioned by the White Rabbit as someone who could have him executed, indicating high status or<br>authority in the story', 'size': 33}, {'id': 'node_id24', 'label': 'Mary Ann', 'title': 'The White Rabbit mistakes Alice for his housemaid named Mary Ann, demonstrating a class or social<br>hierarchy', 'size': 30}, {'id': 'node_id25', 'label': 'Dinah', 'title': \"Alice's cat, whom she imagines might send her on errands just as the White Rabbit does, signifying<br>Alice's feelings about her unusual circumstances\", 'size': 27}, {'id': 'node_id26', 'label': 'W. RABBIT', 'title': 'Name on the brass plate which likely stands for the White Rabbit, denoting ownership of the house<br>Alice enters', 'size': 24}, {'id': 'node_id27', 'label': 'Pat', 'title': 'An unseen character the Rabbit speaks to after his fall, suggesting another creature or person in<br>the story', 'size': 22}, {'id': 'node_id28', 'label': 'Bill', 'title': 'A character who is instructed to fetch a ladder then later told to go down the chimney, suggesting a<br>subordinate role to the Rabbit', 'size': 30}, {'id': 'node_id29', 'label': 'Puppy', 'title': 'An animal Alice encounters which poses a threat due to its size, adding to her challenges', 'size': 27}, {'id': 'node_id30', 'label': 'Large blue caterpillar', 'title': 'A character Alice meets who is smoking a hookah, adding to the surreal experience Alice is having', 'size': 31}], [{'id': 'node_id31', 'label': 'Caterpillar', 'title': 'A languid, sleepy character that converses with Alice offering cryptic advice', 'size': 33}, {'id': 'node_id32', 'label': 'Alice', 'title': 'The main character of the story who is undergoing many size changes and seeks to understand her own<br>identity', 'size': 45}, {'id': 'node_id33', 'label': 'Father William', 'title': 'A character in a poem recited by Alice who is known for his surprising vitality and agility despite<br>his age', 'size': 24}, {'id': 'node_id34', 'label': 'Pigeon', 'title': 'A character that mistakes Alice for a serpent and is concerned about protecting its eggs from said<br>serpents', 'size': 27}], [{'id': 'node_id35', 'label': 'Alice', 'title': 'The protagonist of the story who interacts with the footman and other curious characters', 'size': 45}, {'id': 'node_id36', 'label': 'Fish-Footman', 'title': 'The footman with a face like a fish who delivers an invitation from the Queen', 'size': 30}, {'id': 'node_id37', 'label': 'Frog-Footman', 'title': 'The footman with a face like a frog who interacts with Alice and the Fish-Footman', 'size': 30}, {'id': 'node_id38', 'label': 'The Duchess', 'title': 'A character who is nursing a baby and throws the baby at Alice, later to play croquet with the Queen', 'size': 33}, {'id': 'node_id39', 'label': 'The cook', 'title': 'The character who is cooking, engages in throwing objects around, and has a blase attitude towards<br>Alice', 'size': 33}, {'id': 'node_id40', 'label': 'Cheshire Cat', 'title': 'A grinning cat that engages in conversation with Alice and provides guidance and commentary', 'size': 36}, {'id': 'node_id41', 'label': 'The baby', 'title': 'Initially cared for by the Duchess but transforms into a pig', 'size': 27}, {'id': 'node_id42', 'label': 'The Hatter', 'title': 'Mentioned by the Cheshire Cat as a resident one can visit, implied to be mad', 'size': 24}, {'id': 'node_id43', 'label': 'The March Hare', 'title': 'Mentioned by the Cheshire Cat and the destination Alice considers visiting, implied to be mad', 'size': 24}], [{'id': 'node_id44', 'label': 'Alice', 'title': 'The main character who interacts with others at the tea party and expresses confusion and curiosity', 'size': 45}, {'id': 'node_id45', 'label': 'The March Hare', 'title': 'A character who hosts the tea party with the Hatter and engages in nonsensical conversations and<br>riddles', 'size': 36}, {'id': 'node_id46', 'label': 'The Hatter', 'title': 'Another host of the tea party known for his eccentric manners, questioning of time, and nonsensical<br>poetry', 'size': 36}, {'id': 'node_id47', 'label': 'The Dormouse', 'title': 'A character at the tea party who falls asleep frequently and is used as a cushion by the others,<br>also tells a story about three sisters', 'size': 33}], [{'id': 'node_id48', 'label': 'Alice', 'title': 'A curious and polite young girl who is the protagonist in the story', 'size': 45}, {'id': 'node_id49', 'label': 'Five', 'title': 'One of the gardeners painting the roses red', 'size': 24}, {'id': 'node_id50', 'label': 'Seven', 'title': 'Another gardener who also blames others for mistakes', 'size': 24}, {'id': 'node_id51', 'label': 'Two', 'title': 'A gardener who explains why they must paint the roses red', 'size': 24}, {'id': 'node_id52', 'label': 'The Queen of Hearts', 'title': 'A quick-tempered monarch who commands everyone around her', 'size': 39}, {'id': 'node_id53', 'label': 'The King of Hearts', 'title': 'A relatively timid character compared to the Queen, somewhat sympathetic towards Alice', 'size': 27}, {'id': 'node_id54', 'label': 'The White Rabbit', 'title': 'A nervous and timid character that Alice follows into Wonderland and who interacts with her during<br>the croquet game', 'size': 33}, {'id': 'node_id55', 'label': 'The Knave of Hearts', 'title': \"A character who carries the King's crown and is present during the croquet game\", 'size': 27}, {'id': 'node_id56', 'label': 'The Cheshire Cat', 'title': 'A cat that appears and disappears at will, engages in conversation with Alice, and causes a dispute', 'size': 33}, {'id': 'node_id57', 'label': 'The Duchess', 'title': 'A character who is mentioned as under sentence of execution and who is known by the Cheshire Cat', 'size': 30}], [{'id': 'node_id58', 'label': 'Alice', 'title': 'A young girl who finds herself in whimsical situations in Wonderland, interacting and pondering upon<br>various philosophical concepts and characters', 'size': 45}, {'id': 'node_id59', 'label': 'Duchess', 'title': 'A character whom Alice encounters; she engages in conversation regarding morals and societal rules<br>with Alice', 'size': 36}, {'id': 'node_id60', 'label': 'Queen', 'title': 'A powerful figure in Wonderland who threatens execution; has an encounter with Alice and commands<br>her regarding the Mock Turtle', 'size': 39}, {'id': 'node_id61', 'label': 'Mock Turtle', 'title': 'A sorrowful character that Alice is led to by the Gryphon; shares his story and reflects on various<br>abstract educational topics', 'size': 33}, {'id': 'node_id62', 'label': 'Gryphon', 'title': 'A creature that accompanies Alice to meet the Mock Turtle and comments on his story and reflects its<br>own perspective', 'size': 33}], [{'id': 'node_id63', 'label': 'Alice', 'title': 'A curious and polite young girl who finds herself in fantastical situations', 'size': 45}, {'id': 'node_id64', 'label': 'Mock Turtle', 'title': 'A character who is a parody of a turtle in the story and seems to be quite melancholic', 'size': 39}, {'id': 'node_id65', 'label': 'Gryphon', 'title': 'A mythical creature who accompanies the Mock Turtle and Alice, showing a somewhat impatient demeanor', 'size': 39}, {'id': 'node_id66', 'label': 'Whiting', 'title': \"A fish mentioned in the Mock Turtle's song, personified to take part in the dance\", 'size': 27}, {'id': 'node_id67', 'label': 'Snail', 'title': 'Another creature mentioned in the song, who refuses to join the dance', 'size': 27}, {'id': 'node_id68', 'label': 'Porpoise', 'title': 'Referenced in conversation between Alice and the Mock Turtle as part of a joke', 'size': 24}, {'id': 'node_id69', 'label': 'Lobsters', 'title': 'Invoked as dance partners in the Lobster Quadrille, though not directly interacting characters', 'size': 24}], [{'id': 'node_id70', 'label': 'King of Hearts', 'title': 'The judge and ruler presiding over the trial', 'size': 39}, {'id': 'node_id71', 'label': 'Queen of Hearts', 'title': 'The monarch who made the tarts that were stolen', 'size': 39}, {'id': 'node_id72', 'label': 'Knave of Hearts', 'title': 'The accused who allegedly stole the tarts', 'size': 36}, {'id': 'node_id73', 'label': 'White Rabbit', 'title': 'The herald in the court who reads the accusation', 'size': 36}, {'id': 'node_id74', 'label': 'Alice', 'title': 'A visitor to the court and growing larger, causing disruption', 'size': 42}, {'id': 'node_id75', 'label': 'Gryphon', 'title': \"The creature that explains the jurors' actions to Alice\", 'size': 33}, {'id': 'node_id76', 'label': 'Hatter', 'title': 'The first witness called during the trial', 'size': 36}, {'id': 'node_id77', 'label': 'March Hare', 'title': 'Companion to the Hatter, involved in the witness testimony', 'size': 33}, {'id': 'node_id78', 'label': 'Dormouse', 'title': 'Another companion to the Hatter and the subject of courtroom commotion', 'size': 33}, {'id': 'node_id79', 'label': 'Bill the Lizard', 'title': 'A juror whose pencil Alice takes away', 'size': 30}, {'id': 'node_id80', 'label': \"Duchess's cook\", 'title': 'A witness at the trial who carries a pepper-box', 'size': 33}, {'id': 'node_id81', 'label': 'Soldier', 'title': 'Guarde who stand beside the Knave', 'size': 30}, {'id': 'node_id82', 'label': 'Officer of the Court', 'title': 'Individual responsible for suppression during the trial', 'size': 30}, {'id': 'node_id83', 'label': 'Jury', 'title': 'The twelve creatures writing on slates, determining the verdict', 'size': 36}], [{'id': 'node_id84', 'label': 'Alice', 'title': 'The protagonist of the story who inadvertently causes chaos in the court', 'size': 45}, {'id': 'node_id85', 'label': 'Jurymen', 'title': 'Members of the jury that Alice knocks over, affecting the trial', 'size': 33}, {'id': 'node_id86', 'label': 'King', 'title': 'The authority presiding over the trial, making important decisions', 'size': 39}, {'id': 'node_id87', 'label': 'Lizard (Bill)', 'title': 'A jurymen character whom Alice puts incorrectly into the jury-box', 'size': 27}, {'id': 'node_id88', 'label': 'White Rabbit', 'title': 'A court attendant and herald who provides evidence at the trial', 'size': 36}, {'id': 'node_id89', 'label': 'Queen', 'title': 'An authority figure who seeks to enforce rules and deliver sentences in the trial', 'size': 39}, {'id': 'node_id90', 'label': 'Knave', 'title': 'The accused in the trial, whose guilt or innocence is being determined', 'size': 30}, {'id': 'node_id91', 'label': \"Alice's Sister\", 'title': 'Appears at the end of the narrative, indicating the adventure was a dream', 'size': 24}]]\n",
      "\n",
      "edge_list\n",
      "[[{'id': 'edge_id0', 'label': 'sit by', 'title': 'Alice was beginning to get very tired of sitting by her sister on the bank.', 'from': 'node_id0', 'to': 'node_id1', 'arrows': 'to'}, {'id': 'edge_id1', 'label': 'chase', 'title': 'Alice started to her feet and ran across the field after it, burning with curiosity after seeing it<br>with a waistcoat-pocket and a watch; later, she followed the Rabbit as it was worried about being<br>late.', 'from': 'node_id0', 'to': 'node_id2', 'arrows': 'to'}, {'id': 'edge_id2', 'label': 'miss', 'title': '“Dinah’ll miss me very much to-night, I should think!”', 'from': 'node_id0', 'to': 'node_id3', 'arrows': 'to'}], [{'id': 'edge_id3', 'label': 'observe and initiate conversation with', 'title': '\"It was the White Rabbit returning, splendidly dressed, with a pair of white kid gloves in one hand<br>and a large fan in the other. So, when the Rabbit came near her, she began, in a low, timid voice,<br>\\'If you please, sir—\\'\"', 'from': 'node_id4', 'to': 'node_id5', 'arrows': 'to'}, {'id': 'edge_id4', 'label': 'worry about', 'title': '\"Oh! the Duchess, the Duchess! Oh! won’t she be savage if I’ve kept her waiting!\"', 'from': 'node_id5', 'to': 'node_id6', 'arrows': 'to'}, {'id': 'edge_id5', 'label': 'not be', 'title': '\"I’m sure I’m not Ada.\"', 'from': 'node_id4', 'to': 'node_id7', 'arrows': 'to'}, {'id': 'edge_id6', 'label': 'not be', 'title': '\"and I’m sure I can’t be Mabel.\"', 'from': 'node_id4', 'to': 'node_id8', 'arrows': 'to'}, {'id': 'edge_id7', 'label': 'consider talking to and apologize to', 'title': '\"Would it be of any use, now, to speak to this mouse? \\'Oh, I beg your pardon!\\' cried Alice hastily,<br>afraid that she had hurt the poor animal’s feelings.\"', 'from': 'node_id4', 'to': 'node_id9', 'arrows': 'to'}, {'id': 'edge_id8', 'label': 'dislike of', 'title': '\"“Not like cats!” cried the Mouse, in a shrill, passionate voice.\"', 'from': 'node_id9', 'to': 'node_id6', 'arrows': 'to'}], [{'id': 'edge_id9', 'label': 'argue', 'title': '･ Alice had quite a long argument with the Lory.<br>･ Alice described Dinah to the Lory as a great cat for catching mice.', 'from': 'node_id10', 'to': 'node_id11', 'arrows': 'to', 'smooth': {'type': 'curvedCW', 'roundness': 0.3}}, {'id': 'edge_id10', 'label': 'Lory', 'title': '･ Dodo, Eaglet, Duck), command, The Mouse, who seemed to be a person of authority among them, called<br>out \"Sit down, all of you, and listen to me!\"<br>･ The Mouse proposed to Alice to have a prize herself.<br>･ The Mouse began to narrate its long and sad tale to Alice.', 'from': 'node_id12', 'to': 'node_id10', 'arrows': 'to', 'smooth': {'type': 'curvedCW', 'roundness': 0.3}}, {'id': 'edge_id11', 'label': 'questioning', 'title': 'The Duck questioned the Mouse: \"The question is, what did the archbishop find?\"', 'from': 'node_id15', 'to': 'node_id12', 'arrows': 'to', 'smooth': {'type': 'curvedCW', 'roundness': 0.3}}, {'id': 'edge_id12', 'label': 'Lory', 'title': '･ Eaglet, Duck, and others), explanation, The Dodo explained how to conduct a Caucus-race to Alice.<br>･ Eaglet, Duck), declare, The Dodo declared to the assembly: \"Everybody has won, and all must have<br>prizes.\"<br>･ The Dodo pointed to Alice, implying that she should give out the prizes.', 'from': 'node_id13', 'to': 'node_id10', 'arrows': 'to', 'smooth': {'type': 'curvedCW', 'roundness': 0.3}}, {'id': 'edge_id13', 'label': 'inquiry', 'title': 'The Lory inquired who Dinah was after Alice mentioned her.', 'from': 'node_id11', 'to': 'node_id10', 'arrows': 'to', 'smooth': {'type': 'curvedCW', 'roundness': 0.3}}], [{'id': 'edge_id14', 'label': 'worry about', 'title': 'The White Rabbit was anxious and worried about The Duchess executing him.', 'from': 'node_id21', 'to': 'node_id23', 'arrows': 'to', 'smooth': {'type': 'curvedCW', 'roundness': 0.3}}, {'id': 'edge_id15', 'label': 'search for', 'title': 'Alice guessed the White Rabbit was looking for the fan and the gloves and began hunting about for<br>them.', 'from': 'node_id22', 'to': 'node_id21', 'arrows': 'to', 'smooth': {'type': 'curvedCW', 'roundness': 0.3}}, {'id': 'edge_id16', 'label': 'mistake for', 'title': 'The White Rabbit mistook Alice for his housemaid Mary Ann and asked her to fetch gloves and a fan.', 'from': 'node_id21', 'to': 'node_id22', 'arrows': 'to', 'smooth': {'type': 'curvedCW', 'roundness': 0.3}}, {'id': 'edge_id17', 'label': 'hypothetical orders', 'title': 'Alice imagined herself receiving and executing orders from Dinah similar to running errands for the<br>White Rabbit.', 'from': 'node_id22', 'to': 'node_id25', 'arrows': 'to', 'smooth': {'type': 'curvedCW', 'roundness': 0.3}}, {'id': 'edge_id18', 'label': 'enter home of', 'title': 'Alice said to herself, \"How queer it seems... to be going messages for a rabbit! I suppose Dinah\\'ll<br>be sending me on messages next!\" And she began fancying the sort of thing that would happen: ...', 'from': 'node_id22', 'to': 'node_id26', 'arrows': 'to', 'smooth': {'type': 'curvedCW', 'roundness': 0.3}}, {'id': 'edge_id19', 'label': 'interaction', 'title': 'Alice encountered an enormous puppy and engaged in a form of play to avoid being trampled.', 'from': 'node_id22', 'to': 'node_id29', 'arrows': 'to', 'smooth': {'type': 'curvedCW', 'roundness': 0.3}}, {'id': 'edge_id20', 'label': 'intend to eat', 'title': 'Alice considered eating a mushroom to change her size after seeing the Large blue caterpillar<br>sitting on top of it.', 'from': 'node_id22', 'to': 'node_id30', 'arrows': 'to', 'smooth': {'type': 'curvedCW', 'roundness': 0.3}}, {'id': 'edge_id21', 'label': 'ignore', 'title': 'The Large blue caterpillar was sitting on the mushroom, smoking a hookah, and ignoring Alice when<br>she first saw it.', 'from': 'node_id30', 'to': 'node_id22', 'arrows': 'to', 'smooth': {'type': 'curvedCW', 'roundness': 0.3}}], [{'id': 'edge_id22', 'label': 'address', 'title': 'Various interactions between the Caterpillar and Alice regarding their conversation, questions, and<br>advice.', 'from': 'node_id31', 'to': 'node_id32', 'arrows': 'to', 'smooth': {'type': 'curvedCW', 'roundness': 0.3}}, {'id': 'edge_id23', 'label': 'reply', 'title': \"Alice's various responses and explanations to the Caterpillar as well as her requests and<br>expressions of confusion and changes.\", 'from': 'node_id32', 'to': 'node_id31', 'arrows': 'to', 'smooth': {'type': 'curvedCW', 'roundness': 0.3}}, {'id': 'edge_id24', 'label': 'deny', 'title': \"Alice denying being a serpent and clarifying to the Pigeon that she's not looking for eggs.\", 'from': 'node_id32', 'to': 'node_id34', 'arrows': 'to', 'smooth': {'type': 'curvedCW', 'roundness': 0.3}}, {'id': 'edge_id25', 'label': 'accuse', 'title': 'The Pigeon accusing Alice of being a serpent and persisting in its accusation.', 'from': 'node_id34', 'to': 'node_id32', 'arrows': 'to', 'smooth': {'type': 'curvedCW', 'roundness': 0.3}}], [{'id': 'edge_id26', 'label': 'invite', 'title': 'The Fish-Footman began by producing a great letter, for the Duchess, an invitation from the Queen to<br>play croquet.', 'from': 'node_id36', 'to': 'node_id38', 'arrows': 'to', 'smooth': {'type': 'curvedCW', 'roundness': 0.3}}, {'id': 'edge_id27', 'label': 'invite', 'title': 'The Frog-Footman repeated the invitation for the Duchess to play croquet.', 'from': 'node_id37', 'to': 'node_id38', 'arrows': 'to', 'smooth': {'type': 'curvedCW', 'roundness': 0.3}}, {'id': 'edge_id28', 'label': 'throw objects', 'title': 'The cook took the cauldron of soup off the fire, and began to throw things at the Duchess and the<br>baby.', 'from': 'node_id39', 'to': 'node_id38', 'arrows': 'to', 'smooth': {'type': 'curvedCW', 'roundness': 0.3}}, {'id': 'edge_id29', 'label': 'nurse', 'title': 'The Duchess was nursing the baby.', 'from': 'node_id38', 'to': 'node_id41', 'arrows': 'to', 'smooth': {'type': 'curvedCW', 'roundness': 0.3}}, {'id': 'edge_id30', 'label': 'suggest', 'title': 'The Cheshire Cat suggests Alice visit either the Hatter or the March Hare.', 'from': 'node_id40', 'to': 'node_id35', 'arrows': 'to', 'smooth': {'type': 'curvedCW', 'roundness': 0.3}}, {'id': 'edge_id31', 'label': 'predict', 'title': 'The Cheshire Cat predicted the baby would turn into a pig.', 'from': 'node_id40', 'to': 'node_id41', 'arrows': 'to', 'smooth': {'type': 'curvedCW', 'roundness': 0.3}}, {'id': 'edge_id32', 'label': 'nurse', 'title': 'Alice tried to nurse the baby proper before it turned into a pig.', 'from': 'node_id35', 'to': 'node_id41', 'arrows': 'to', 'smooth': {'type': 'curvedCW', 'roundness': 0.3}}, {'id': 'edge_id33', 'label': 'transform', 'title': 'The baby transformed into a pig.', 'from': 'node_id41', 'to': 'node_id35', 'arrows': 'to', 'smooth': {'type': 'curvedCW', 'roundness': 0.3}}, {'id': 'edge_id34', 'label': 'be seen', 'title': 'Alice contemplated visiting the March Hare.', 'from': 'node_id43', 'to': 'node_id35', 'arrows': 'to', 'smooth': {'type': 'curvedCW', 'roundness': 0.3}}], [{'id': 'edge_id35', 'label': 'using as cushion and sat between', 'title': 'A Dormouse was sitting between them and they were using it as a cushion.', 'from': 'node_id45', 'to': 'node_id47', 'arrows': 'to', 'smooth': {'type': 'curvedCW', 'roundness': 0.3}}, {'id': 'edge_id36', 'label': 'thought uncomfortable', 'title': 'Alice thought \"Very uncomfortable for the Dormouse.\"', 'from': 'node_id44', 'to': 'node_id47', 'arrows': 'to', 'smooth': {'type': 'curvedCW', 'roundness': 0.3}}, {'id': 'edge_id37', 'label': 'denied room and thought plenty of room', 'title': 'They cried out “No room! No room!” when they saw Alice coming, but Alice said indignantly \"There’s<br>plenty of room!\"', 'from': 'node_id44', 'to': 'node_id45', 'arrows': 'to', 'smooth': {'type': 'curvedCW', 'roundness': 0.3}}, {'id': 'edge_id38', 'label': 'offered wine and accused of incivility~', 'title': \"･ The March Hare said “Have some wine,” but Alice accused The March Hare of being uncivil for offering<br>wine that wasn't there and for saying it was uncivil of her to sit down uninvited.<br>･ The March Hare questioned Alice's understanding of the riddle and later added to the argument about<br>meaning equivalency.\", 'from': 'node_id45', 'to': 'node_id44', 'arrows': 'to', 'smooth': {'type': 'curvedCW', 'roundness': 0.3}}, {'id': 'edge_id39', 'label': 'commented on appearance', 'title': \"asked riddle, and disagreed on meaning equivalency, The Hatter made a comment about Alice's<br>appearance, asked a riddle about a raven and a writing-desk, and disagreed on the equivalency of<br>meanings with Alice.\", 'from': 'node_id46', 'to': 'node_id44', 'arrows': 'to', 'smooth': {'type': 'curvedCW', 'roundness': 0.3}}, {'id': 'edge_id40', 'label': 'reprimanded for rudeness', 'title': 'Alice said \"You should learn not to make personal remarks; it\\'s very rude.\"', 'from': 'node_id44', 'to': 'node_id46', 'arrows': 'to', 'smooth': {'type': 'curvedCW', 'roundness': 0.3}}, {'id': 'edge_id41', 'label': 'added argument', 'title': '･ The Dormouse said \"You might just as well say that ‘I breathe when I sleep’ is the same thing as ‘I<br>sleep when I breathe’!\"<br>･ The Dormouse was asked by The Hatter and The March Hare to tell a story to Alice.', 'from': 'node_id47', 'to': 'node_id44', 'arrows': 'to', 'smooth': {'type': 'curvedCW', 'roundness': 0.3}}, {'id': 'edge_id42', 'label': 'had a quarrel', 'title': 'The Hatter mentioned that they had quarreled last March—just before he went mad.', 'from': 'node_id46', 'to': 'node_id45', 'arrows': 'to', 'smooth': {'type': 'curvedCW', 'roundness': 0.3}}, {'id': 'edge_id43', 'label': 'suggested a story', 'title': 'The March Hare suggested that The Dormouse should tell a story.', 'from': 'node_id45', 'to': 'node_id46', 'arrows': 'to', 'smooth': {'type': 'curvedCW', 'roundness': 0.3}}], [{'id': 'edge_id44', 'label': 'ordering beheading for mistakes', 'title': 'The Queen of Hearts ordered the beheading of the gardeners because they planted a white rose-tree<br>instead of a red one.', 'from': 'node_id52', 'to': 'node_id50', 'arrows': 'to'}, {'id': 'edge_id45', 'label': 'providing protection to the gardeners', 'title': 'Alice helped the gardeners avoid beheading by hiding them in a flower-pot.', 'from': 'node_id48', 'to': 'node_id50', 'arrows': 'to'}, {'id': 'edge_id46', 'label': 'asking questions to Alice about her~', 'title': 'The Queen of Hearts asked Alice what her name was.', 'from': 'node_id52', 'to': 'node_id49', 'arrows': 'to'}, {'id': 'edge_id47', 'label': 'opposing the Queen of Hearts', 'title': 'Alice boldly claimed \"Nonsense\" in response to the Queen of Hearts\\'s order to behead her.', 'from': 'node_id48', 'to': 'node_id56', 'arrows': 'to'}, {'id': 'edge_id48', 'label': 'advising the Queen of Hearts to consider', 'title': 'The King of Hearts suggested to the Queen of Hearts to take into account that Alice was only a<br>child.', 'from': 'node_id53', 'to': 'node_id56', 'arrows': 'to'}, {'id': 'edge_id49', 'label': 'being under sentence for boxing the~', 'title': \"The White Rabbit informed Alice that the Duchess was under sentence of execution for boxing the<br>Queen's ears.\", 'from': 'node_id57', 'to': 'node_id55', 'arrows': 'to'}, {'id': 'edge_id50', 'label': 'speaking to Alice', 'title': 'Alice found someone to talk to when the Cheshire Cat appeared and spoke to her about the game and<br>the Queen.', 'from': 'node_id56', 'to': 'node_id56', 'arrows': 'to'}, {'id': 'edge_id51', 'label': 'inquiring about playing croquet and~', 'title': 'The Queen of Hearts asked Alice if she could play croquet and then commanded her to join the game.', 'from': 'node_id52', 'to': 'node_id54', 'arrows': 'to'}, {'id': 'edge_id52', 'label': 'asking for removal of the Cheshire Cat', 'title': 'The King of Hearts asked the Queen of Hearts to remove the Cheshire Cat because he did not like its<br>appearance.', 'from': 'node_id53', 'to': 'node_id57', 'arrows': 'to'}], [{'id': 'edge_id53', 'label': 'Queen', 'title': \"Mock Turtle, Gryphon'\", 'from': 'node_id58', 'to': 'node_id59', 'arrows': 'to', 'smooth': {'type': 'curvedCW', 'roundness': 0.3}}, {'id': 'edge_id54', 'label': 'express affection', 'title': 'The Duchess was glad to see Alice, tucked her arm affectionately into hers, squeezed closer to<br>Alice, and shared her views on morals.', 'from': 'node_id59', 'to': 'node_id58', 'arrows': 'to', 'smooth': {'type': 'curvedCW', 'roundness': 0.3}}, {'id': 'edge_id55', 'label': 'issue a threat', 'title': 'The Queen warned the Duchess, resulting in the Duchess immediately leaving.', 'from': 'node_id60', 'to': 'node_id59', 'arrows': 'to', 'smooth': {'type': 'curvedCW', 'roundness': 0.3}}, {'id': 'edge_id56', 'label': 'command', 'title': 'The Queen told Alice to continue the game, asked if she had seen the Mock Turtle, and instructed her<br>to visit the Mock Turtle and hear his history.', 'from': 'node_id60', 'to': 'node_id58', 'arrows': 'to', 'smooth': {'type': 'curvedCW', 'roundness': 0.3}}, {'id': 'edge_id57', 'label': 'introduce', 'title': 'The Queen instructed the Gryphon to take Alice to the Mock Turtle.', 'from': 'node_id62', 'to': 'node_id58', 'arrows': 'to', 'smooth': {'type': 'curvedCW', 'roundness': 0.3}}, {'id': 'edge_id58', 'label': 'make a request', 'title': 'The Gryphon asked the Mock Turtle to share his history with Alice.', 'from': 'node_id62', 'to': 'node_id61', 'arrows': 'to', 'smooth': {'type': 'curvedCW', 'roundness': 0.3}}, {'id': 'edge_id59', 'label': 'teach', 'title': 'The Mock Turtle agreed to tell his history to Alice.', 'from': 'node_id61', 'to': 'node_id58', 'arrows': 'to', 'smooth': {'type': 'curvedCW', 'roundness': 0.3}}], [{'id': 'edge_id60', 'label': 'looked', 'title': '･ The Mock Turtle looked at Alice.<br>･ The Mock Turtle offered to show Alice a little of the Lobster Quadrille dance.', 'from': 'node_id64', 'to': 'node_id63', 'arrows': 'to', 'smooth': {'type': 'curvedCW', 'roundness': 0.3}}, {'id': 'edge_id61', 'label': 'help', 'title': '･ The Gryphon set to work shaking him (Mock Turtle) and punching him in the back.<br>･ The Gryphon told the Mock Turtle \"Oh, you sing,\" when asked which of them should sing.', 'from': 'node_id65', 'to': 'node_id64', 'arrows': 'to', 'smooth': {'type': 'curvedCW', 'roundness': 0.3}}, {'id': 'edge_id62', 'label': 'inquire', 'title': 'Alice asked \"What sort of a dance is it?\" about the Lobster Quadrille.', 'from': 'node_id63', 'to': 'node_id69', 'arrows': 'to', 'smooth': {'type': 'curvedCW', 'roundness': 0.3}}, {'id': 'edge_id63', 'label': 'explain', 'title': 'The Gryphon explained to Alice how to perform the Lobster Quadrille.', 'from': 'node_id65', 'to': 'node_id63', 'arrows': 'to', 'smooth': {'type': 'curvedCW', 'roundness': 0.3}}, {'id': 'edge_id64', 'label': 'instruct', 'title': 'The Mock Turtle instructed the Gryphon to come and try the first figure of the dance.', 'from': 'node_id64', 'to': 'node_id65', 'arrows': 'to', 'smooth': {'type': 'curvedCW', 'roundness': 0.3}}, {'id': 'edge_id65', 'label': 'invite', 'title': 'The Whiting invited the Snail to join the dance in the song sung by the Mock Turtle.', 'from': 'node_id66', 'to': 'node_id67', 'arrows': 'to', 'smooth': {'type': 'curvedCW', 'roundness': 0.3}}, {'id': 'edge_id66', 'label': 'refuse', 'title': \"The Snail refused the Whiting's invitation to join the dance.\", 'from': 'node_id67', 'to': 'node_id66', 'arrows': 'to', 'smooth': {'type': 'curvedCW', 'roundness': 0.3}}, {'id': 'edge_id67', 'label': 'express', 'title': 'Alice expressed to the Mock Turtle \"Very much indeed,\" showing her interest in seeing the dance.', 'from': 'node_id63', 'to': 'node_id64', 'arrows': 'to', 'smooth': {'type': 'curvedCW', 'roundness': 0.3}}, {'id': 'edge_id68', 'label': 'need', 'title': 'The Mock Turtle said to Alice \"They were obliged to have him with them,\" indicating the need for a<br>porpoise.', 'from': 'node_id64', 'to': 'node_id68', 'arrows': 'to', 'smooth': {'type': 'curvedCW', 'roundness': 0.3}}], [{'id': 'edge_id69', 'label': 'seated', 'title': 'The King and Queen of Hearts were seated on their throne.', 'from': 'node_id70', 'to': 'node_id71', 'arrows': 'to'}, {'id': 'edge_id70', 'label': 'guarded', 'title': 'The Knave was standing before the King and Queen, in chains, with a soldier on each side to guard<br>him.', 'from': 'node_id72', 'to': 'node_id81', 'arrows': 'to'}, {'id': 'edge_id71', 'label': 'near', 'title': 'Near the King was the White Rabbit.', 'from': 'node_id70', 'to': 'node_id73', 'arrows': 'to'}, {'id': 'edge_id72', 'label': 'tempted by', 'title': 'The sight of the tarts made Alice quite hungry.', 'from': 'node_id74', 'to': 'node_id70', 'arrows': 'to'}, {'id': 'edge_id73', 'label': 'in', 'title': 'Alice had never been in a court of justice before.', 'from': 'node_id74', 'to': 'node_id83', 'arrows': 'to'}, {'id': 'edge_id74', 'label': 'is', 'title': 'The judge was the King.', 'from': 'node_id70', 'to': 'node_id81', 'arrows': 'to'}, {'id': 'edge_id75', 'label': 'identifies', 'title': 'Alice identified the twelve creatures as the jurors.', 'from': 'node_id74', 'to': 'node_id78', 'arrows': 'to'}, {'id': 'edge_id76', 'label': 'writing down', 'title': 'The jurors were writing down their names.', 'from': 'node_id78', 'to': 'node_id72', 'arrows': 'to'}, {'id': 'edge_id77', 'label': 'considered verdict', 'title': 'The King said to the jury, “Consider your verdict.”', 'from': 'node_id70', 'to': 'node_id83', 'arrows': 'to'}, {'id': 'edge_id78', 'label': 'called as witness', 'title': 'The King called the Hatter as the first witness.', 'from': 'node_id70', 'to': 'node_id76', 'arrows': 'to'}, {'id': 'edge_id79', 'label': 'looked at', 'title': 'The Hatter looked at the March Hare.', 'from': 'node_id76', 'to': 'node_id77', 'arrows': 'to'}], [{'id': 'edge_id80', 'label': 'tip over', 'title': 'Alice tipped over the jury-box with the edge of her skirt, upsetting all the jurymen, and began<br>picking them up again as quickly as she could after upsetting them.', 'from': 'node_id84', 'to': 'node_id85', 'arrows': 'to', 'smooth': {'type': 'curvedCW', 'roundness': 0.3}}, {'id': 'edge_id81', 'label': 'put right', 'title': 'Alice put the Lizard right after noticing it was put in head downwards.', 'from': 'node_id84', 'to': 'node_id87', 'arrows': 'to', 'smooth': {'type': 'curvedCW', 'roundness': 0.3}}, {'id': 'edge_id82', 'label': 'question', 'title': \"･ The King asked Alice what she knew about the trial's business.<br>･ The King accused Alice of being more than a mile high.<br>･ The King defended the court rule as the oldest in the book.\", 'from': 'node_id86', 'to': 'node_id84', 'arrows': 'to', 'smooth': {'type': 'curvedCW', 'roundness': 0.3}}, {'id': 'edge_id83', 'label': 'response', 'title': '･ Alice told the King she knew \"Nothing\" about the trial\\'s business.<br>･ Alice challenged the King on the creation of a court rule.', 'from': 'node_id84', 'to': 'node_id86', 'arrows': 'to', 'smooth': {'type': 'curvedCW', 'roundness': 0.3}}, {'id': 'edge_id84', 'label': 'correct', 'title': '･ The King corrected the White Rabbit\\'s statement, emphasizing it was \"important.\"<br>･ The King instructed the jury to consider their verdict.', 'from': 'node_id86', 'to': 'node_id85', 'arrows': 'to', 'smooth': {'type': 'curvedCW', 'roundness': 0.3}}, {'id': 'edge_id85', 'label': 'correct', 'title': '･ The White Rabbit corrected the King by saying \"unimportant.\"<br>･ The White Rabbit informed the King of new evidence.', 'from': 'node_id88', 'to': 'node_id86', 'arrows': 'to', 'smooth': {'type': 'curvedCW', 'roundness': 0.3}}, {'id': 'edge_id86', 'label': 'height accusation', 'title': \"･ The Queen added that Alice was nearly two miles high.<br>･ The Queen demanded a sentence before the verdict from Alice.<br>･ The Queen ordered Alice's execution.\", 'from': 'node_id89', 'to': 'node_id84', 'arrows': 'to', 'smooth': {'type': 'curvedCW', 'roundness': 0.3}}, {'id': 'edge_id87', 'label': 'evidence update', 'title': 'The White Rabbit updated the Queen that the paper was a set of verses.', 'from': 'node_id88', 'to': 'node_id89', 'arrows': 'to', 'smooth': {'type': 'curvedCW', 'roundness': 0.3}}, {'id': 'edge_id88', 'label': 'attack', 'title': 'The Queen threw an inkstand at Lizard (Bill).', 'from': 'node_id89', 'to': 'node_id87', 'arrows': 'to', 'smooth': {'type': 'curvedCW', 'roundness': 0.3}}, {'id': 'edge_id89', 'label': 'refusal', 'title': \"Alice refused to comply with the Queen's demand.\", 'from': 'node_id84', 'to': 'node_id89', 'arrows': 'to', 'smooth': {'type': 'curvedCW', 'roundness': 0.3}}, {'id': 'edge_id90', 'label': 'awaken', 'title': \"･ Alice's Sister woke Alice up from her dream.<br>･ Alice's Sister comforted Alice after she narrated her dream.\", 'from': 'node_id91', 'to': 'node_id84', 'arrows': 'to', 'smooth': {'type': 'curvedCW', 'roundness': 0.3}}]]\n",
      "\n",
      "summary_list\n",
      "['Alice, feeling bored sitting with her sister, follows a White Rabbit down a rabbit-hole, finding herself falling down a deep well into a fantastical world. Observing her surroundings during the fall, she lands safely and continues to pursue the Rabbit. Navigating through a locked hallway and after growing smaller from drinking a curious liquid, Alice finds herself unable to reach the key to a door leading to a beautiful garden. She then eats a cake hoping to change size and access the garden.', 'Alice grows to a gigantic size and ponders on the identity crisis she faces, contemplating if she has been changed overnight. She accidentally shrinks to two feet after using a fan and finds herself swimming in a pool of her own tears. She encounters a mouse, which she tries to befriend, but scares it with talk of cats and dogs. The mouse agrees to tell its history to explain its aversion to cats and dogs, and they swim to shore where other creatures have also gathered.', 'A group of wet and uncomfortable animals, including Alice, discuss how to dry off, leading to a confused and unconventional \"Caucus-race\" that ends with everyone receiving prizes from Alice. Later, as the Mouse relates a tale, Alice\\'s thoughts and interruptions annoy the Mouse, prompting it to leave. Alice\\'s mention of her cat Dinah frightens the birds away, leaving her alone and sad.', 'Alice encounters the White Rabbit, who mistakes her for his servant Mary Ann and sends her to get his gloves and fan. She finds her way to his house and, while searching for the items, drinks from a bottle that causes her to grow huge. Trapped in the house, she scares the Rabbit and his helpers, who then debate ways to remove her, culminating in throwing pebbles at her. These pebbles turn into cakes, and upon eating one, she shrinks and escapes. Once outside, she decides to find her way into a beautiful garden and grows to her correct size with a mushroom that a caterpillar is perched upon.', 'Alice encounters a Caterpillar who questions her identity, sparking a conversation about change and size. The Caterpillar advises Alice to keep her temper and later tells her that different parts of a mushroom will make her grow or shrink. As Alice experiments with these pieces, she changes size several times, eventually adjusting herself to her normal height. She also has a confusing encounter with a pigeon that mistakes her for a serpent. Alice aims to enter a beautiful garden and adjusts her size again to approach a little house.', \"Alice observes a house and considers her next move when a fish-like footman delivers a letter inviting the Duchess to play croquet with the Queen; the door is answered by a frog-like footman. Alice laughs at their tangled hair but hides to avoid being heard. Approaching the house, she attempts to knock but is rebuked by the frog footman who informs her of the noisy chaos inside. After an exchange about the uselessness of knocking, Alice boldly enters the kitchen filled with smoke, where a sneezy environment caused by too much pepper affects everyone except the cook and a grinning Cheshire Cat. The Duchess nurses a baby in a violent manner and engages in brief, rude conversation with Alice before being pelted with kitchenware by the cook. Alice tries to discuss the earth's rotation, only to be interrupted by the Duchess, who abruptly leaves to prepare for croquet. Alice is left to care for the baby, which soon turns into a pig. A conversation with the Cheshire Cat leads her to contemplate going to visit the March Hare or the Hatter, as suggested by the Cat who keeps appearing and disappearing, leaving only its grin behind. The chapter ends with Alice approaching the March Hare's house ahead of deciding whether to visit there or the Hatter's abode.\", 'Alice encounters the March Hare, the Hatter, and a sleeping Dormouse having a nonsensical tea party. They discuss the concept of saying what one means, the relativity of time, and exchange riddles and stories which have no answers or logic. When offended by their rudeness and absurdities, Alice leaves the frustrating tea party and finally enters the garden she has been seeking by growing to the appropriate size using a piece of mushroom she saved.', \"Alice encounters three gardeners painting white roses red to correct their mistake of planting the wrong rose tree and avoid the Queen's punishment. The Queen arrives with a grand procession and demands the beheading of the gardeners, but Alice intervenes, helping them avoid execution. Alice then joins the Queen's bizarre croquet game, where the equipment is alive. The Cheshire Cat reappears, causing a dispute about its beheading due to its disembodied state, but the problem is unresolved as the Duchess, whom the Cat belongs to, is in prison.\", \"Alice and the Duchess bond over theories of temperament, morality, and Alice's flamingo in the croquet game. The threatening Queen of Hearts reappears, causing the Duchess to hurriedly depart. The Queen then introduces Alice to the Gryphon to meet the melancholic Mock Turtle and hear his history, which includes a bizarre education in the sea. They discuss their schooling experiences, revealing the absurd curriculum of the sea creatures, before the Gryphon diverts the conversation to games.\", 'The Mock Turtle describes the Lobster Quadrille, a whimsical sea dance, to Alice, who finds it interesting though confusing. The Gryphon and the Mock Turtle attempt to demonstrate the dance and offer to share more curious information about sea creatures and their ways. Alice tries to share her own adventures, but they insist on hearing verses which end up nonsensical due to her distraction by the Lobster Quadrille, leading to more confusion. Eventually, they are interrupted by a call announcing the start of a trial, and the Gryphon hurries Alice away, leaving the song of the Mock Turtle trailing behind them.', \"The King and Queen of Hearts preside over a court with various creatures and the pack of cards. Alice is observing the absurd trial where the Knave of Hearts is accused of stealing tarts. The court proceedings are nonsensical, with jurors writing down their names so they don't forget, and the Hatter is called as a witness. He gives a confused testimony, prompting the King to become impatient and threaten execution. The Hatter's evidence is incoherent, discussing his tea-time and ignoring the case. The situation becomes more chaotic as the Dormouse's comments lead to his ejection from the court. The cook is the next witness, who rudely refuses to testify, adding to the disarray. Eventually, much to Alice's surprise, she is called as the next witness.\", \"Alice, having grown large, accidentally upsets the jury box at her trial, and the King rules that the trial cannot continue until the jurors are in their proper places. When questioned by the King, Alice declares she knows nothing of the matter at hand. The proceedings become more absurd as a letter with nonsensical verses is presented as evidence, with no one able to interpret it. The Queen demands a verdict before evidence is fully heard, but Alice, now full-sized, refutes the nonsensical proceedings. The Queen orders Alice's beheading, but as the cards fly at Alice, she wakes up to find herself on the bank with her sister. It was all a dream, which she recounts to her sister before being called in for tea. Her sister stays behind, contemplating Alice's dream and dreaming herself of Alice's future growth, retaining her childlike heart and sharing her Wonderland adventures with other children.\"]\n",
      "\n",
      "chapter_name_list\n",
      "['CHAPTER I. Down the Rabbit-Hole', 'CHAPTER II. The Pool of Tears', 'CHAPTER III. A Caucus-Race and a Long Tale', 'CHAPTER IV. The Rabbit Sends in a Little Bill', 'CHAPTER V. Advice from a Caterpillar', 'CHAPTER VI. Pig and Pepper', 'CHAPTER VII. A Mad Tea-Party', 'CHAPTER VIII. The Queen’s Croquet-Ground', 'CHAPTER IX. The Mock Turtle’s Story', 'CHAPTER X. The Lobster Quadrille', 'CHAPTER XI. Who Stole the Tarts?', 'CHAPTER XII. Alice’s Evidence']\n",
      "\n",
      "section_name_list\n",
      "[]\n",
      "\n",
      "summarized_data\n",
      "[{'sectionName': 'CHAPTER I. Down the Rabbit-Hole', 'summary': 'Alice, feeling bored sitting with her sister, follows a White Rabbit down a rabbit-hole, finding herself falling down a deep well into a fantastical world. Observing her surroundings during the fall, she lands safely and continues to pursue the Rabbit. Navigating through a locked hallway and after growing smaller from drinking a curious liquid, Alice finds herself unable to reach the key to a door leading to a beautiful garden. She then eats a cake hoping to change size and access the garden.', 'nodes': [{'id': 'node_id0', 'label': 'Alice', 'title': 'The main character of the story who falls down a rabbit-hole into a fantastical world', 'size': 45}, {'id': 'node_id1', 'label': \"Alice's sister\", 'title': \"Alice's older sister who reads a book without pictures or conversations\", 'size': 27}, {'id': 'node_id2', 'label': 'White Rabbit', 'title': 'A talking rabbit with pink eyes and a waistcoat who Alice follows down the rabbit-hole', 'size': 39}, {'id': 'node_id3', 'label': 'Dinah', 'title': \"Alice's cat who she thinks about during her fall down the rabbit-hole\", 'size': 24}], 'edges': [{'id': 'edge_id0', 'label': 'sit by', 'title': 'Alice was beginning to get very tired of sitting by her sister on the bank.', 'from': 'node_id0', 'to': 'node_id1', 'arrows': 'to'}, {'id': 'edge_id1', 'label': 'chase', 'title': 'Alice started to her feet and ran across the field after it, burning with curiosity after seeing it<br>with a waistcoat-pocket and a watch; later, she followed the Rabbit as it was worried about being<br>late.', 'from': 'node_id0', 'to': 'node_id2', 'arrows': 'to'}, {'id': 'edge_id2', 'label': 'miss', 'title': '“Dinah’ll miss me very much to-night, I should think!”', 'from': 'node_id0', 'to': 'node_id3', 'arrows': 'to'}]}, {'sectionName': 'CHAPTER II. The Pool of Tears', 'summary': 'Alice grows to a gigantic size and ponders on the identity crisis she faces, contemplating if she has been changed overnight. She accidentally shrinks to two feet after using a fan and finds herself swimming in a pool of her own tears. She encounters a mouse, which she tries to befriend, but scares it with talk of cats and dogs. The mouse agrees to tell its history to explain its aversion to cats and dogs, and they swim to shore where other creatures have also gathered.', 'nodes': [{'id': 'node_id4', 'label': 'Alice', 'title': 'The main character, who experiences size changes and adventures in a fantastical world', 'size': 45}, {'id': 'node_id5', 'label': 'White Rabbit', 'title': 'A character who Alice follows into Wonderland, prompting her adventures', 'size': 39}, {'id': 'node_id6', 'label': 'Duchess', 'title': 'Mentioned by the White Rabbit, a character that Alice thinks about encountering', 'size': 30}, {'id': 'node_id7', 'label': 'Ada', 'title': 'A child Alice knows, used by Alice to assert her own identity', 'size': 24}, {'id': 'node_id8', 'label': 'Mabel', 'title': 'Another child known to Alice, contrasted with Alice to help her determine her own identity', 'size': 24}, {'id': 'node_id9', 'label': 'Mouse', 'title': 'A small creature that Alice encounters while swimming in the pool of tears', 'size': 36}], 'edges': [{'id': 'edge_id3', 'label': 'observe and initiate conversation with', 'title': '\"It was the White Rabbit returning, splendidly dressed, with a pair of white kid gloves in one hand<br>and a large fan in the other. So, when the Rabbit came near her, she began, in a low, timid voice,<br>\\'If you please, sir—\\'\"', 'from': 'node_id4', 'to': 'node_id5', 'arrows': 'to'}, {'id': 'edge_id4', 'label': 'worry about', 'title': '\"Oh! the Duchess, the Duchess! Oh! won’t she be savage if I’ve kept her waiting!\"', 'from': 'node_id5', 'to': 'node_id6', 'arrows': 'to'}, {'id': 'edge_id5', 'label': 'not be', 'title': '\"I’m sure I’m not Ada.\"', 'from': 'node_id4', 'to': 'node_id7', 'arrows': 'to'}, {'id': 'edge_id6', 'label': 'not be', 'title': '\"and I’m sure I can’t be Mabel.\"', 'from': 'node_id4', 'to': 'node_id8', 'arrows': 'to'}, {'id': 'edge_id7', 'label': 'consider talking to and apologize to', 'title': '\"Would it be of any use, now, to speak to this mouse? \\'Oh, I beg your pardon!\\' cried Alice hastily,<br>afraid that she had hurt the poor animal’s feelings.\"', 'from': 'node_id4', 'to': 'node_id9', 'arrows': 'to'}, {'id': 'edge_id8', 'label': 'dislike of', 'title': '\"“Not like cats!” cried the Mouse, in a shrill, passionate voice.\"', 'from': 'node_id9', 'to': 'node_id6', 'arrows': 'to'}]}, {'sectionName': 'CHAPTER III. A Caucus-Race and a Long Tale', 'summary': 'A group of wet and uncomfortable animals, including Alice, discuss how to dry off, leading to a confused and unconventional \"Caucus-race\" that ends with everyone receiving prizes from Alice. Later, as the Mouse relates a tale, Alice\\'s thoughts and interruptions annoy the Mouse, prompting it to leave. Alice\\'s mention of her cat Dinah frightens the birds away, leaving her alone and sad.', 'nodes': [{'id': 'node_id10', 'label': 'Alice', 'title': 'A young girl who finds herself talking with animals and attending a whimsical gathering', 'size': 45}, {'id': 'node_id11', 'label': 'Lory', 'title': 'A sulky character in the story that has an argument with Alice about its age', 'size': 36}, {'id': 'node_id12', 'label': 'Mouse', 'title': 'A character who seems to be an authority among the assembled creatures, leads the meeting, and<br>shares a long history', 'size': 42}, {'id': 'node_id13', 'label': 'Dodo', 'title': 'A character that suggests a Caucus-race to get everyone dry and adjudicates that everyone has won<br>the race', 'size': 39}, {'id': 'node_id14', 'label': 'Eaglet', 'title': \"A character that challenges the Dodo's use of complex words and takes part in the Caucus-race\", 'size': 33}, {'id': 'node_id15', 'label': 'Duck', 'title': \"Another attendee of the meeting, who inquires about the Mouse's story regarding an archbishop\", 'size': 33}, {'id': 'node_id16', 'label': 'Dinah', 'title': \"Alice's cat, not directly involved in the scene but mentioned by Alice, causing a stir among the<br>animal attendees\", 'size': 30}, {'id': 'node_id17', 'label': 'Old Crab', 'title': 'A character that speaks to her daughter about maintaining composure', 'size': 27}, {'id': 'node_id18', 'label': 'Young Crab', 'title': 'The daughter of the Old Crab who responds snappishly', 'size': 27}, {'id': 'node_id19', 'label': 'Magpie', 'title': 'A bird that leaves the gathering early, cautious of night air affecting its throat', 'size': 24}, {'id': 'node_id20', 'label': 'Canary', 'title': \"A bird that also leaves after becoming alarmed by Alice's mention of her cat\", 'size': 24}], 'edges': [{'id': 'edge_id9', 'label': 'argue', 'title': '･ Alice had quite a long argument with the Lory.<br>･ Alice described Dinah to the Lory as a great cat for catching mice.', 'from': 'node_id10', 'to': 'node_id11', 'arrows': 'to', 'smooth': {'type': 'curvedCW', 'roundness': 0.3}}, {'id': 'edge_id10', 'label': 'Lory', 'title': '･ Dodo, Eaglet, Duck), command, The Mouse, who seemed to be a person of authority among them, called<br>out \"Sit down, all of you, and listen to me!\"<br>･ The Mouse proposed to Alice to have a prize herself.<br>･ The Mouse began to narrate its long and sad tale to Alice.', 'from': 'node_id12', 'to': 'node_id10', 'arrows': 'to', 'smooth': {'type': 'curvedCW', 'roundness': 0.3}}, {'id': 'edge_id11', 'label': 'questioning', 'title': 'The Duck questioned the Mouse: \"The question is, what did the archbishop find?\"', 'from': 'node_id15', 'to': 'node_id12', 'arrows': 'to', 'smooth': {'type': 'curvedCW', 'roundness': 0.3}}, {'id': 'edge_id12', 'label': 'Lory', 'title': '･ Eaglet, Duck, and others), explanation, The Dodo explained how to conduct a Caucus-race to Alice.<br>･ Eaglet, Duck), declare, The Dodo declared to the assembly: \"Everybody has won, and all must have<br>prizes.\"<br>･ The Dodo pointed to Alice, implying that she should give out the prizes.', 'from': 'node_id13', 'to': 'node_id10', 'arrows': 'to', 'smooth': {'type': 'curvedCW', 'roundness': 0.3}}, {'id': 'edge_id13', 'label': 'inquiry', 'title': 'The Lory inquired who Dinah was after Alice mentioned her.', 'from': 'node_id11', 'to': 'node_id10', 'arrows': 'to', 'smooth': {'type': 'curvedCW', 'roundness': 0.3}}]}, {'sectionName': 'CHAPTER IV. The Rabbit Sends in a Little Bill', 'summary': 'Alice encounters the White Rabbit, who mistakes her for his servant Mary Ann and sends her to get his gloves and fan. She finds her way to his house and, while searching for the items, drinks from a bottle that causes her to grow huge. Trapped in the house, she scares the Rabbit and his helpers, who then debate ways to remove her, culminating in throwing pebbles at her. These pebbles turn into cakes, and upon eating one, she shrinks and escapes. Once outside, she decides to find her way into a beautiful garden and grows to her correct size with a mushroom that a caterpillar is perched upon.', 'nodes': [{'id': 'node_id21', 'label': 'White Rabbit', 'title': 'A nervous character anxious about displeasing the Duchess', 'size': 37}, {'id': 'node_id22', 'label': 'Alice', 'title': 'The young protagonist of the story who experiences the whimsical world around her', 'size': 45}, {'id': 'node_id23', 'label': 'The Duchess', 'title': 'Mentioned by the White Rabbit as someone who could have him executed, indicating high status or<br>authority in the story', 'size': 33}, {'id': 'node_id24', 'label': 'Mary Ann', 'title': 'The White Rabbit mistakes Alice for his housemaid named Mary Ann, demonstrating a class or social<br>hierarchy', 'size': 30}, {'id': 'node_id25', 'label': 'Dinah', 'title': \"Alice's cat, whom she imagines might send her on errands just as the White Rabbit does, signifying<br>Alice's feelings about her unusual circumstances\", 'size': 27}, {'id': 'node_id26', 'label': 'W. RABBIT', 'title': 'Name on the brass plate which likely stands for the White Rabbit, denoting ownership of the house<br>Alice enters', 'size': 24}, {'id': 'node_id27', 'label': 'Pat', 'title': 'An unseen character the Rabbit speaks to after his fall, suggesting another creature or person in<br>the story', 'size': 22}, {'id': 'node_id28', 'label': 'Bill', 'title': 'A character who is instructed to fetch a ladder then later told to go down the chimney, suggesting a<br>subordinate role to the Rabbit', 'size': 30}, {'id': 'node_id29', 'label': 'Puppy', 'title': 'An animal Alice encounters which poses a threat due to its size, adding to her challenges', 'size': 27}, {'id': 'node_id30', 'label': 'Large blue caterpillar', 'title': 'A character Alice meets who is smoking a hookah, adding to the surreal experience Alice is having', 'size': 31}], 'edges': [{'id': 'edge_id14', 'label': 'worry about', 'title': 'The White Rabbit was anxious and worried about The Duchess executing him.', 'from': 'node_id21', 'to': 'node_id23', 'arrows': 'to', 'smooth': {'type': 'curvedCW', 'roundness': 0.3}}, {'id': 'edge_id15', 'label': 'search for', 'title': 'Alice guessed the White Rabbit was looking for the fan and the gloves and began hunting about for<br>them.', 'from': 'node_id22', 'to': 'node_id21', 'arrows': 'to', 'smooth': {'type': 'curvedCW', 'roundness': 0.3}}, {'id': 'edge_id16', 'label': 'mistake for', 'title': 'The White Rabbit mistook Alice for his housemaid Mary Ann and asked her to fetch gloves and a fan.', 'from': 'node_id21', 'to': 'node_id22', 'arrows': 'to', 'smooth': {'type': 'curvedCW', 'roundness': 0.3}}, {'id': 'edge_id17', 'label': 'hypothetical orders', 'title': 'Alice imagined herself receiving and executing orders from Dinah similar to running errands for the<br>White Rabbit.', 'from': 'node_id22', 'to': 'node_id25', 'arrows': 'to', 'smooth': {'type': 'curvedCW', 'roundness': 0.3}}, {'id': 'edge_id18', 'label': 'enter home of', 'title': 'Alice said to herself, \"How queer it seems... to be going messages for a rabbit! I suppose Dinah\\'ll<br>be sending me on messages next!\" And she began fancying the sort of thing that would happen: ...', 'from': 'node_id22', 'to': 'node_id26', 'arrows': 'to', 'smooth': {'type': 'curvedCW', 'roundness': 0.3}}, {'id': 'edge_id19', 'label': 'interaction', 'title': 'Alice encountered an enormous puppy and engaged in a form of play to avoid being trampled.', 'from': 'node_id22', 'to': 'node_id29', 'arrows': 'to', 'smooth': {'type': 'curvedCW', 'roundness': 0.3}}, {'id': 'edge_id20', 'label': 'intend to eat', 'title': 'Alice considered eating a mushroom to change her size after seeing the Large blue caterpillar<br>sitting on top of it.', 'from': 'node_id22', 'to': 'node_id30', 'arrows': 'to', 'smooth': {'type': 'curvedCW', 'roundness': 0.3}}, {'id': 'edge_id21', 'label': 'ignore', 'title': 'The Large blue caterpillar was sitting on the mushroom, smoking a hookah, and ignoring Alice when<br>she first saw it.', 'from': 'node_id30', 'to': 'node_id22', 'arrows': 'to', 'smooth': {'type': 'curvedCW', 'roundness': 0.3}}]}, {'sectionName': 'CHAPTER V. Advice from a Caterpillar', 'summary': 'Alice encounters a Caterpillar who questions her identity, sparking a conversation about change and size. The Caterpillar advises Alice to keep her temper and later tells her that different parts of a mushroom will make her grow or shrink. As Alice experiments with these pieces, she changes size several times, eventually adjusting herself to her normal height. She also has a confusing encounter with a pigeon that mistakes her for a serpent. Alice aims to enter a beautiful garden and adjusts her size again to approach a little house.', 'nodes': [{'id': 'node_id31', 'label': 'Caterpillar', 'title': 'A languid, sleepy character that converses with Alice offering cryptic advice', 'size': 33}, {'id': 'node_id32', 'label': 'Alice', 'title': 'The main character of the story who is undergoing many size changes and seeks to understand her own<br>identity', 'size': 45}, {'id': 'node_id33', 'label': 'Father William', 'title': 'A character in a poem recited by Alice who is known for his surprising vitality and agility despite<br>his age', 'size': 24}, {'id': 'node_id34', 'label': 'Pigeon', 'title': 'A character that mistakes Alice for a serpent and is concerned about protecting its eggs from said<br>serpents', 'size': 27}], 'edges': [{'id': 'edge_id22', 'label': 'address', 'title': 'Various interactions between the Caterpillar and Alice regarding their conversation, questions, and<br>advice.', 'from': 'node_id31', 'to': 'node_id32', 'arrows': 'to', 'smooth': {'type': 'curvedCW', 'roundness': 0.3}}, {'id': 'edge_id23', 'label': 'reply', 'title': \"Alice's various responses and explanations to the Caterpillar as well as her requests and<br>expressions of confusion and changes.\", 'from': 'node_id32', 'to': 'node_id31', 'arrows': 'to', 'smooth': {'type': 'curvedCW', 'roundness': 0.3}}, {'id': 'edge_id24', 'label': 'deny', 'title': \"Alice denying being a serpent and clarifying to the Pigeon that she's not looking for eggs.\", 'from': 'node_id32', 'to': 'node_id34', 'arrows': 'to', 'smooth': {'type': 'curvedCW', 'roundness': 0.3}}, {'id': 'edge_id25', 'label': 'accuse', 'title': 'The Pigeon accusing Alice of being a serpent and persisting in its accusation.', 'from': 'node_id34', 'to': 'node_id32', 'arrows': 'to', 'smooth': {'type': 'curvedCW', 'roundness': 0.3}}]}, {'sectionName': 'CHAPTER VI. Pig and Pepper', 'summary': \"Alice observes a house and considers her next move when a fish-like footman delivers a letter inviting the Duchess to play croquet with the Queen; the door is answered by a frog-like footman. Alice laughs at their tangled hair but hides to avoid being heard. Approaching the house, she attempts to knock but is rebuked by the frog footman who informs her of the noisy chaos inside. After an exchange about the uselessness of knocking, Alice boldly enters the kitchen filled with smoke, where a sneezy environment caused by too much pepper affects everyone except the cook and a grinning Cheshire Cat. The Duchess nurses a baby in a violent manner and engages in brief, rude conversation with Alice before being pelted with kitchenware by the cook. Alice tries to discuss the earth's rotation, only to be interrupted by the Duchess, who abruptly leaves to prepare for croquet. Alice is left to care for the baby, which soon turns into a pig. A conversation with the Cheshire Cat leads her to contemplate going to visit the March Hare or the Hatter, as suggested by the Cat who keeps appearing and disappearing, leaving only its grin behind. The chapter ends with Alice approaching the March Hare's house ahead of deciding whether to visit there or the Hatter's abode.\", 'nodes': [{'id': 'node_id35', 'label': 'Alice', 'title': 'The protagonist of the story who interacts with the footman and other curious characters', 'size': 45}, {'id': 'node_id36', 'label': 'Fish-Footman', 'title': 'The footman with a face like a fish who delivers an invitation from the Queen', 'size': 30}, {'id': 'node_id37', 'label': 'Frog-Footman', 'title': 'The footman with a face like a frog who interacts with Alice and the Fish-Footman', 'size': 30}, {'id': 'node_id38', 'label': 'The Duchess', 'title': 'A character who is nursing a baby and throws the baby at Alice, later to play croquet with the Queen', 'size': 33}, {'id': 'node_id39', 'label': 'The cook', 'title': 'The character who is cooking, engages in throwing objects around, and has a blase attitude towards<br>Alice', 'size': 33}, {'id': 'node_id40', 'label': 'Cheshire Cat', 'title': 'A grinning cat that engages in conversation with Alice and provides guidance and commentary', 'size': 36}, {'id': 'node_id41', 'label': 'The baby', 'title': 'Initially cared for by the Duchess but transforms into a pig', 'size': 27}, {'id': 'node_id42', 'label': 'The Hatter', 'title': 'Mentioned by the Cheshire Cat as a resident one can visit, implied to be mad', 'size': 24}, {'id': 'node_id43', 'label': 'The March Hare', 'title': 'Mentioned by the Cheshire Cat and the destination Alice considers visiting, implied to be mad', 'size': 24}], 'edges': [{'id': 'edge_id26', 'label': 'invite', 'title': 'The Fish-Footman began by producing a great letter, for the Duchess, an invitation from the Queen to<br>play croquet.', 'from': 'node_id36', 'to': 'node_id38', 'arrows': 'to', 'smooth': {'type': 'curvedCW', 'roundness': 0.3}}, {'id': 'edge_id27', 'label': 'invite', 'title': 'The Frog-Footman repeated the invitation for the Duchess to play croquet.', 'from': 'node_id37', 'to': 'node_id38', 'arrows': 'to', 'smooth': {'type': 'curvedCW', 'roundness': 0.3}}, {'id': 'edge_id28', 'label': 'throw objects', 'title': 'The cook took the cauldron of soup off the fire, and began to throw things at the Duchess and the<br>baby.', 'from': 'node_id39', 'to': 'node_id38', 'arrows': 'to', 'smooth': {'type': 'curvedCW', 'roundness': 0.3}}, {'id': 'edge_id29', 'label': 'nurse', 'title': 'The Duchess was nursing the baby.', 'from': 'node_id38', 'to': 'node_id41', 'arrows': 'to', 'smooth': {'type': 'curvedCW', 'roundness': 0.3}}, {'id': 'edge_id30', 'label': 'suggest', 'title': 'The Cheshire Cat suggests Alice visit either the Hatter or the March Hare.', 'from': 'node_id40', 'to': 'node_id35', 'arrows': 'to', 'smooth': {'type': 'curvedCW', 'roundness': 0.3}}, {'id': 'edge_id31', 'label': 'predict', 'title': 'The Cheshire Cat predicted the baby would turn into a pig.', 'from': 'node_id40', 'to': 'node_id41', 'arrows': 'to', 'smooth': {'type': 'curvedCW', 'roundness': 0.3}}, {'id': 'edge_id32', 'label': 'nurse', 'title': 'Alice tried to nurse the baby proper before it turned into a pig.', 'from': 'node_id35', 'to': 'node_id41', 'arrows': 'to', 'smooth': {'type': 'curvedCW', 'roundness': 0.3}}, {'id': 'edge_id33', 'label': 'transform', 'title': 'The baby transformed into a pig.', 'from': 'node_id41', 'to': 'node_id35', 'arrows': 'to', 'smooth': {'type': 'curvedCW', 'roundness': 0.3}}, {'id': 'edge_id34', 'label': 'be seen', 'title': 'Alice contemplated visiting the March Hare.', 'from': 'node_id43', 'to': 'node_id35', 'arrows': 'to', 'smooth': {'type': 'curvedCW', 'roundness': 0.3}}]}, {'sectionName': 'CHAPTER VII. A Mad Tea-Party', 'summary': 'Alice encounters the March Hare, the Hatter, and a sleeping Dormouse having a nonsensical tea party. They discuss the concept of saying what one means, the relativity of time, and exchange riddles and stories which have no answers or logic. When offended by their rudeness and absurdities, Alice leaves the frustrating tea party and finally enters the garden she has been seeking by growing to the appropriate size using a piece of mushroom she saved.', 'nodes': [{'id': 'node_id44', 'label': 'Alice', 'title': 'The main character who interacts with others at the tea party and expresses confusion and curiosity', 'size': 45}, {'id': 'node_id45', 'label': 'The March Hare', 'title': 'A character who hosts the tea party with the Hatter and engages in nonsensical conversations and<br>riddles', 'size': 36}, {'id': 'node_id46', 'label': 'The Hatter', 'title': 'Another host of the tea party known for his eccentric manners, questioning of time, and nonsensical<br>poetry', 'size': 36}, {'id': 'node_id47', 'label': 'The Dormouse', 'title': 'A character at the tea party who falls asleep frequently and is used as a cushion by the others,<br>also tells a story about three sisters', 'size': 33}], 'edges': [{'id': 'edge_id35', 'label': 'using as cushion and sat between', 'title': 'A Dormouse was sitting between them and they were using it as a cushion.', 'from': 'node_id45', 'to': 'node_id47', 'arrows': 'to', 'smooth': {'type': 'curvedCW', 'roundness': 0.3}}, {'id': 'edge_id36', 'label': 'thought uncomfortable', 'title': 'Alice thought \"Very uncomfortable for the Dormouse.\"', 'from': 'node_id44', 'to': 'node_id47', 'arrows': 'to', 'smooth': {'type': 'curvedCW', 'roundness': 0.3}}, {'id': 'edge_id37', 'label': 'denied room and thought plenty of room', 'title': 'They cried out “No room! No room!” when they saw Alice coming, but Alice said indignantly \"There’s<br>plenty of room!\"', 'from': 'node_id44', 'to': 'node_id45', 'arrows': 'to', 'smooth': {'type': 'curvedCW', 'roundness': 0.3}}, {'id': 'edge_id38', 'label': 'offered wine and accused of incivility~', 'title': \"･ The March Hare said “Have some wine,” but Alice accused The March Hare of being uncivil for offering<br>wine that wasn't there and for saying it was uncivil of her to sit down uninvited.<br>･ The March Hare questioned Alice's understanding of the riddle and later added to the argument about<br>meaning equivalency.\", 'from': 'node_id45', 'to': 'node_id44', 'arrows': 'to', 'smooth': {'type': 'curvedCW', 'roundness': 0.3}}, {'id': 'edge_id39', 'label': 'commented on appearance', 'title': \"asked riddle, and disagreed on meaning equivalency, The Hatter made a comment about Alice's<br>appearance, asked a riddle about a raven and a writing-desk, and disagreed on the equivalency of<br>meanings with Alice.\", 'from': 'node_id46', 'to': 'node_id44', 'arrows': 'to', 'smooth': {'type': 'curvedCW', 'roundness': 0.3}}, {'id': 'edge_id40', 'label': 'reprimanded for rudeness', 'title': 'Alice said \"You should learn not to make personal remarks; it\\'s very rude.\"', 'from': 'node_id44', 'to': 'node_id46', 'arrows': 'to', 'smooth': {'type': 'curvedCW', 'roundness': 0.3}}, {'id': 'edge_id41', 'label': 'added argument', 'title': '･ The Dormouse said \"You might just as well say that ‘I breathe when I sleep’ is the same thing as ‘I<br>sleep when I breathe’!\"<br>･ The Dormouse was asked by The Hatter and The March Hare to tell a story to Alice.', 'from': 'node_id47', 'to': 'node_id44', 'arrows': 'to', 'smooth': {'type': 'curvedCW', 'roundness': 0.3}}, {'id': 'edge_id42', 'label': 'had a quarrel', 'title': 'The Hatter mentioned that they had quarreled last March—just before he went mad.', 'from': 'node_id46', 'to': 'node_id45', 'arrows': 'to', 'smooth': {'type': 'curvedCW', 'roundness': 0.3}}, {'id': 'edge_id43', 'label': 'suggested a story', 'title': 'The March Hare suggested that The Dormouse should tell a story.', 'from': 'node_id45', 'to': 'node_id46', 'arrows': 'to', 'smooth': {'type': 'curvedCW', 'roundness': 0.3}}]}, {'sectionName': 'CHAPTER VIII. The Queen’s Croquet-Ground', 'summary': \"Alice encounters three gardeners painting white roses red to correct their mistake of planting the wrong rose tree and avoid the Queen's punishment. The Queen arrives with a grand procession and demands the beheading of the gardeners, but Alice intervenes, helping them avoid execution. Alice then joins the Queen's bizarre croquet game, where the equipment is alive. The Cheshire Cat reappears, causing a dispute about its beheading due to its disembodied state, but the problem is unresolved as the Duchess, whom the Cat belongs to, is in prison.\", 'nodes': [{'id': 'node_id48', 'label': 'Alice', 'title': 'A curious and polite young girl who is the protagonist in the story', 'size': 45}, {'id': 'node_id49', 'label': 'Five', 'title': 'One of the gardeners painting the roses red', 'size': 24}, {'id': 'node_id50', 'label': 'Seven', 'title': 'Another gardener who also blames others for mistakes', 'size': 24}, {'id': 'node_id51', 'label': 'Two', 'title': 'A gardener who explains why they must paint the roses red', 'size': 24}, {'id': 'node_id52', 'label': 'The Queen of Hearts', 'title': 'A quick-tempered monarch who commands everyone around her', 'size': 39}, {'id': 'node_id53', 'label': 'The King of Hearts', 'title': 'A relatively timid character compared to the Queen, somewhat sympathetic towards Alice', 'size': 27}, {'id': 'node_id54', 'label': 'The White Rabbit', 'title': 'A nervous and timid character that Alice follows into Wonderland and who interacts with her during<br>the croquet game', 'size': 33}, {'id': 'node_id55', 'label': 'The Knave of Hearts', 'title': \"A character who carries the King's crown and is present during the croquet game\", 'size': 27}, {'id': 'node_id56', 'label': 'The Cheshire Cat', 'title': 'A cat that appears and disappears at will, engages in conversation with Alice, and causes a dispute', 'size': 33}, {'id': 'node_id57', 'label': 'The Duchess', 'title': 'A character who is mentioned as under sentence of execution and who is known by the Cheshire Cat', 'size': 30}], 'edges': [{'id': 'edge_id44', 'label': 'ordering beheading for mistakes', 'title': 'The Queen of Hearts ordered the beheading of the gardeners because they planted a white rose-tree<br>instead of a red one.', 'from': 'node_id52', 'to': 'node_id50', 'arrows': 'to'}, {'id': 'edge_id45', 'label': 'providing protection to the gardeners', 'title': 'Alice helped the gardeners avoid beheading by hiding them in a flower-pot.', 'from': 'node_id48', 'to': 'node_id50', 'arrows': 'to'}, {'id': 'edge_id46', 'label': 'asking questions to Alice about her~', 'title': 'The Queen of Hearts asked Alice what her name was.', 'from': 'node_id52', 'to': 'node_id49', 'arrows': 'to'}, {'id': 'edge_id47', 'label': 'opposing the Queen of Hearts', 'title': 'Alice boldly claimed \"Nonsense\" in response to the Queen of Hearts\\'s order to behead her.', 'from': 'node_id48', 'to': 'node_id56', 'arrows': 'to'}, {'id': 'edge_id48', 'label': 'advising the Queen of Hearts to consider', 'title': 'The King of Hearts suggested to the Queen of Hearts to take into account that Alice was only a<br>child.', 'from': 'node_id53', 'to': 'node_id56', 'arrows': 'to'}, {'id': 'edge_id49', 'label': 'being under sentence for boxing the~', 'title': \"The White Rabbit informed Alice that the Duchess was under sentence of execution for boxing the<br>Queen's ears.\", 'from': 'node_id57', 'to': 'node_id55', 'arrows': 'to'}, {'id': 'edge_id50', 'label': 'speaking to Alice', 'title': 'Alice found someone to talk to when the Cheshire Cat appeared and spoke to her about the game and<br>the Queen.', 'from': 'node_id56', 'to': 'node_id56', 'arrows': 'to'}, {'id': 'edge_id51', 'label': 'inquiring about playing croquet and~', 'title': 'The Queen of Hearts asked Alice if she could play croquet and then commanded her to join the game.', 'from': 'node_id52', 'to': 'node_id54', 'arrows': 'to'}, {'id': 'edge_id52', 'label': 'asking for removal of the Cheshire Cat', 'title': 'The King of Hearts asked the Queen of Hearts to remove the Cheshire Cat because he did not like its<br>appearance.', 'from': 'node_id53', 'to': 'node_id57', 'arrows': 'to'}]}, {'sectionName': 'CHAPTER IX. The Mock Turtle’s Story', 'summary': \"Alice and the Duchess bond over theories of temperament, morality, and Alice's flamingo in the croquet game. The threatening Queen of Hearts reappears, causing the Duchess to hurriedly depart. The Queen then introduces Alice to the Gryphon to meet the melancholic Mock Turtle and hear his history, which includes a bizarre education in the sea. They discuss their schooling experiences, revealing the absurd curriculum of the sea creatures, before the Gryphon diverts the conversation to games.\", 'nodes': [{'id': 'node_id58', 'label': 'Alice', 'title': 'A young girl who finds herself in whimsical situations in Wonderland, interacting and pondering upon<br>various philosophical concepts and characters', 'size': 45}, {'id': 'node_id59', 'label': 'Duchess', 'title': 'A character whom Alice encounters; she engages in conversation regarding morals and societal rules<br>with Alice', 'size': 36}, {'id': 'node_id60', 'label': 'Queen', 'title': 'A powerful figure in Wonderland who threatens execution; has an encounter with Alice and commands<br>her regarding the Mock Turtle', 'size': 39}, {'id': 'node_id61', 'label': 'Mock Turtle', 'title': 'A sorrowful character that Alice is led to by the Gryphon; shares his story and reflects on various<br>abstract educational topics', 'size': 33}, {'id': 'node_id62', 'label': 'Gryphon', 'title': 'A creature that accompanies Alice to meet the Mock Turtle and comments on his story and reflects its<br>own perspective', 'size': 33}], 'edges': [{'id': 'edge_id53', 'label': 'Queen', 'title': \"Mock Turtle, Gryphon'\", 'from': 'node_id58', 'to': 'node_id59', 'arrows': 'to', 'smooth': {'type': 'curvedCW', 'roundness': 0.3}}, {'id': 'edge_id54', 'label': 'express affection', 'title': 'The Duchess was glad to see Alice, tucked her arm affectionately into hers, squeezed closer to<br>Alice, and shared her views on morals.', 'from': 'node_id59', 'to': 'node_id58', 'arrows': 'to', 'smooth': {'type': 'curvedCW', 'roundness': 0.3}}, {'id': 'edge_id55', 'label': 'issue a threat', 'title': 'The Queen warned the Duchess, resulting in the Duchess immediately leaving.', 'from': 'node_id60', 'to': 'node_id59', 'arrows': 'to', 'smooth': {'type': 'curvedCW', 'roundness': 0.3}}, {'id': 'edge_id56', 'label': 'command', 'title': 'The Queen told Alice to continue the game, asked if she had seen the Mock Turtle, and instructed her<br>to visit the Mock Turtle and hear his history.', 'from': 'node_id60', 'to': 'node_id58', 'arrows': 'to', 'smooth': {'type': 'curvedCW', 'roundness': 0.3}}, {'id': 'edge_id57', 'label': 'introduce', 'title': 'The Queen instructed the Gryphon to take Alice to the Mock Turtle.', 'from': 'node_id62', 'to': 'node_id58', 'arrows': 'to', 'smooth': {'type': 'curvedCW', 'roundness': 0.3}}, {'id': 'edge_id58', 'label': 'make a request', 'title': 'The Gryphon asked the Mock Turtle to share his history with Alice.', 'from': 'node_id62', 'to': 'node_id61', 'arrows': 'to', 'smooth': {'type': 'curvedCW', 'roundness': 0.3}}, {'id': 'edge_id59', 'label': 'teach', 'title': 'The Mock Turtle agreed to tell his history to Alice.', 'from': 'node_id61', 'to': 'node_id58', 'arrows': 'to', 'smooth': {'type': 'curvedCW', 'roundness': 0.3}}]}, {'sectionName': 'CHAPTER X. The Lobster Quadrille', 'summary': 'The Mock Turtle describes the Lobster Quadrille, a whimsical sea dance, to Alice, who finds it interesting though confusing. The Gryphon and the Mock Turtle attempt to demonstrate the dance and offer to share more curious information about sea creatures and their ways. Alice tries to share her own adventures, but they insist on hearing verses which end up nonsensical due to her distraction by the Lobster Quadrille, leading to more confusion. Eventually, they are interrupted by a call announcing the start of a trial, and the Gryphon hurries Alice away, leaving the song of the Mock Turtle trailing behind them.', 'nodes': [{'id': 'node_id63', 'label': 'Alice', 'title': 'A curious and polite young girl who finds herself in fantastical situations', 'size': 45}, {'id': 'node_id64', 'label': 'Mock Turtle', 'title': 'A character who is a parody of a turtle in the story and seems to be quite melancholic', 'size': 39}, {'id': 'node_id65', 'label': 'Gryphon', 'title': 'A mythical creature who accompanies the Mock Turtle and Alice, showing a somewhat impatient demeanor', 'size': 39}, {'id': 'node_id66', 'label': 'Whiting', 'title': \"A fish mentioned in the Mock Turtle's song, personified to take part in the dance\", 'size': 27}, {'id': 'node_id67', 'label': 'Snail', 'title': 'Another creature mentioned in the song, who refuses to join the dance', 'size': 27}, {'id': 'node_id68', 'label': 'Porpoise', 'title': 'Referenced in conversation between Alice and the Mock Turtle as part of a joke', 'size': 24}, {'id': 'node_id69', 'label': 'Lobsters', 'title': 'Invoked as dance partners in the Lobster Quadrille, though not directly interacting characters', 'size': 24}], 'edges': [{'id': 'edge_id60', 'label': 'looked', 'title': '･ The Mock Turtle looked at Alice.<br>･ The Mock Turtle offered to show Alice a little of the Lobster Quadrille dance.', 'from': 'node_id64', 'to': 'node_id63', 'arrows': 'to', 'smooth': {'type': 'curvedCW', 'roundness': 0.3}}, {'id': 'edge_id61', 'label': 'help', 'title': '･ The Gryphon set to work shaking him (Mock Turtle) and punching him in the back.<br>･ The Gryphon told the Mock Turtle \"Oh, you sing,\" when asked which of them should sing.', 'from': 'node_id65', 'to': 'node_id64', 'arrows': 'to', 'smooth': {'type': 'curvedCW', 'roundness': 0.3}}, {'id': 'edge_id62', 'label': 'inquire', 'title': 'Alice asked \"What sort of a dance is it?\" about the Lobster Quadrille.', 'from': 'node_id63', 'to': 'node_id69', 'arrows': 'to', 'smooth': {'type': 'curvedCW', 'roundness': 0.3}}, {'id': 'edge_id63', 'label': 'explain', 'title': 'The Gryphon explained to Alice how to perform the Lobster Quadrille.', 'from': 'node_id65', 'to': 'node_id63', 'arrows': 'to', 'smooth': {'type': 'curvedCW', 'roundness': 0.3}}, {'id': 'edge_id64', 'label': 'instruct', 'title': 'The Mock Turtle instructed the Gryphon to come and try the first figure of the dance.', 'from': 'node_id64', 'to': 'node_id65', 'arrows': 'to', 'smooth': {'type': 'curvedCW', 'roundness': 0.3}}, {'id': 'edge_id65', 'label': 'invite', 'title': 'The Whiting invited the Snail to join the dance in the song sung by the Mock Turtle.', 'from': 'node_id66', 'to': 'node_id67', 'arrows': 'to', 'smooth': {'type': 'curvedCW', 'roundness': 0.3}}, {'id': 'edge_id66', 'label': 'refuse', 'title': \"The Snail refused the Whiting's invitation to join the dance.\", 'from': 'node_id67', 'to': 'node_id66', 'arrows': 'to', 'smooth': {'type': 'curvedCW', 'roundness': 0.3}}, {'id': 'edge_id67', 'label': 'express', 'title': 'Alice expressed to the Mock Turtle \"Very much indeed,\" showing her interest in seeing the dance.', 'from': 'node_id63', 'to': 'node_id64', 'arrows': 'to', 'smooth': {'type': 'curvedCW', 'roundness': 0.3}}, {'id': 'edge_id68', 'label': 'need', 'title': 'The Mock Turtle said to Alice \"They were obliged to have him with them,\" indicating the need for a<br>porpoise.', 'from': 'node_id64', 'to': 'node_id68', 'arrows': 'to', 'smooth': {'type': 'curvedCW', 'roundness': 0.3}}]}, {'sectionName': 'CHAPTER XI. Who Stole the Tarts?', 'summary': \"The King and Queen of Hearts preside over a court with various creatures and the pack of cards. Alice is observing the absurd trial where the Knave of Hearts is accused of stealing tarts. The court proceedings are nonsensical, with jurors writing down their names so they don't forget, and the Hatter is called as a witness. He gives a confused testimony, prompting the King to become impatient and threaten execution. The Hatter's evidence is incoherent, discussing his tea-time and ignoring the case. The situation becomes more chaotic as the Dormouse's comments lead to his ejection from the court. The cook is the next witness, who rudely refuses to testify, adding to the disarray. Eventually, much to Alice's surprise, she is called as the next witness.\", 'nodes': [{'id': 'node_id70', 'label': 'King of Hearts', 'title': 'The judge and ruler presiding over the trial', 'size': 39}, {'id': 'node_id71', 'label': 'Queen of Hearts', 'title': 'The monarch who made the tarts that were stolen', 'size': 39}, {'id': 'node_id72', 'label': 'Knave of Hearts', 'title': 'The accused who allegedly stole the tarts', 'size': 36}, {'id': 'node_id73', 'label': 'White Rabbit', 'title': 'The herald in the court who reads the accusation', 'size': 36}, {'id': 'node_id74', 'label': 'Alice', 'title': 'A visitor to the court and growing larger, causing disruption', 'size': 42}, {'id': 'node_id75', 'label': 'Gryphon', 'title': \"The creature that explains the jurors' actions to Alice\", 'size': 33}, {'id': 'node_id76', 'label': 'Hatter', 'title': 'The first witness called during the trial', 'size': 36}, {'id': 'node_id77', 'label': 'March Hare', 'title': 'Companion to the Hatter, involved in the witness testimony', 'size': 33}, {'id': 'node_id78', 'label': 'Dormouse', 'title': 'Another companion to the Hatter and the subject of courtroom commotion', 'size': 33}, {'id': 'node_id79', 'label': 'Bill the Lizard', 'title': 'A juror whose pencil Alice takes away', 'size': 30}, {'id': 'node_id80', 'label': \"Duchess's cook\", 'title': 'A witness at the trial who carries a pepper-box', 'size': 33}, {'id': 'node_id81', 'label': 'Soldier', 'title': 'Guarde who stand beside the Knave', 'size': 30}, {'id': 'node_id82', 'label': 'Officer of the Court', 'title': 'Individual responsible for suppression during the trial', 'size': 30}, {'id': 'node_id83', 'label': 'Jury', 'title': 'The twelve creatures writing on slates, determining the verdict', 'size': 36}], 'edges': [{'id': 'edge_id69', 'label': 'seated', 'title': 'The King and Queen of Hearts were seated on their throne.', 'from': 'node_id70', 'to': 'node_id71', 'arrows': 'to'}, {'id': 'edge_id70', 'label': 'guarded', 'title': 'The Knave was standing before the King and Queen, in chains, with a soldier on each side to guard<br>him.', 'from': 'node_id72', 'to': 'node_id81', 'arrows': 'to'}, {'id': 'edge_id71', 'label': 'near', 'title': 'Near the King was the White Rabbit.', 'from': 'node_id70', 'to': 'node_id73', 'arrows': 'to'}, {'id': 'edge_id72', 'label': 'tempted by', 'title': 'The sight of the tarts made Alice quite hungry.', 'from': 'node_id74', 'to': 'node_id70', 'arrows': 'to'}, {'id': 'edge_id73', 'label': 'in', 'title': 'Alice had never been in a court of justice before.', 'from': 'node_id74', 'to': 'node_id83', 'arrows': 'to'}, {'id': 'edge_id74', 'label': 'is', 'title': 'The judge was the King.', 'from': 'node_id70', 'to': 'node_id81', 'arrows': 'to'}, {'id': 'edge_id75', 'label': 'identifies', 'title': 'Alice identified the twelve creatures as the jurors.', 'from': 'node_id74', 'to': 'node_id78', 'arrows': 'to'}, {'id': 'edge_id76', 'label': 'writing down', 'title': 'The jurors were writing down their names.', 'from': 'node_id78', 'to': 'node_id72', 'arrows': 'to'}, {'id': 'edge_id77', 'label': 'considered verdict', 'title': 'The King said to the jury, “Consider your verdict.”', 'from': 'node_id70', 'to': 'node_id83', 'arrows': 'to'}, {'id': 'edge_id78', 'label': 'called as witness', 'title': 'The King called the Hatter as the first witness.', 'from': 'node_id70', 'to': 'node_id76', 'arrows': 'to'}, {'id': 'edge_id79', 'label': 'looked at', 'title': 'The Hatter looked at the March Hare.', 'from': 'node_id76', 'to': 'node_id77', 'arrows': 'to'}]}, {'sectionName': 'CHAPTER XII. Alice’s Evidence', 'summary': \"Alice, having grown large, accidentally upsets the jury box at her trial, and the King rules that the trial cannot continue until the jurors are in their proper places. When questioned by the King, Alice declares she knows nothing of the matter at hand. The proceedings become more absurd as a letter with nonsensical verses is presented as evidence, with no one able to interpret it. The Queen demands a verdict before evidence is fully heard, but Alice, now full-sized, refutes the nonsensical proceedings. The Queen orders Alice's beheading, but as the cards fly at Alice, she wakes up to find herself on the bank with her sister. It was all a dream, which she recounts to her sister before being called in for tea. Her sister stays behind, contemplating Alice's dream and dreaming herself of Alice's future growth, retaining her childlike heart and sharing her Wonderland adventures with other children.\", 'nodes': [{'id': 'node_id84', 'label': 'Alice', 'title': 'The protagonist of the story who inadvertently causes chaos in the court', 'size': 45}, {'id': 'node_id85', 'label': 'Jurymen', 'title': 'Members of the jury that Alice knocks over, affecting the trial', 'size': 33}, {'id': 'node_id86', 'label': 'King', 'title': 'The authority presiding over the trial, making important decisions', 'size': 39}, {'id': 'node_id87', 'label': 'Lizard (Bill)', 'title': 'A jurymen character whom Alice puts incorrectly into the jury-box', 'size': 27}, {'id': 'node_id88', 'label': 'White Rabbit', 'title': 'A court attendant and herald who provides evidence at the trial', 'size': 36}, {'id': 'node_id89', 'label': 'Queen', 'title': 'An authority figure who seeks to enforce rules and deliver sentences in the trial', 'size': 39}, {'id': 'node_id90', 'label': 'Knave', 'title': 'The accused in the trial, whose guilt or innocence is being determined', 'size': 30}, {'id': 'node_id91', 'label': \"Alice's Sister\", 'title': 'Appears at the end of the narrative, indicating the adventure was a dream', 'size': 24}], 'edges': [{'id': 'edge_id80', 'label': 'tip over', 'title': 'Alice tipped over the jury-box with the edge of her skirt, upsetting all the jurymen, and began<br>picking them up again as quickly as she could after upsetting them.', 'from': 'node_id84', 'to': 'node_id85', 'arrows': 'to', 'smooth': {'type': 'curvedCW', 'roundness': 0.3}}, {'id': 'edge_id81', 'label': 'put right', 'title': 'Alice put the Lizard right after noticing it was put in head downwards.', 'from': 'node_id84', 'to': 'node_id87', 'arrows': 'to', 'smooth': {'type': 'curvedCW', 'roundness': 0.3}}, {'id': 'edge_id82', 'label': 'question', 'title': \"･ The King asked Alice what she knew about the trial's business.<br>･ The King accused Alice of being more than a mile high.<br>･ The King defended the court rule as the oldest in the book.\", 'from': 'node_id86', 'to': 'node_id84', 'arrows': 'to', 'smooth': {'type': 'curvedCW', 'roundness': 0.3}}, {'id': 'edge_id83', 'label': 'response', 'title': '･ Alice told the King she knew \"Nothing\" about the trial\\'s business.<br>･ Alice challenged the King on the creation of a court rule.', 'from': 'node_id84', 'to': 'node_id86', 'arrows': 'to', 'smooth': {'type': 'curvedCW', 'roundness': 0.3}}, {'id': 'edge_id84', 'label': 'correct', 'title': '･ The King corrected the White Rabbit\\'s statement, emphasizing it was \"important.\"<br>･ The King instructed the jury to consider their verdict.', 'from': 'node_id86', 'to': 'node_id85', 'arrows': 'to', 'smooth': {'type': 'curvedCW', 'roundness': 0.3}}, {'id': 'edge_id85', 'label': 'correct', 'title': '･ The White Rabbit corrected the King by saying \"unimportant.\"<br>･ The White Rabbit informed the King of new evidence.', 'from': 'node_id88', 'to': 'node_id86', 'arrows': 'to', 'smooth': {'type': 'curvedCW', 'roundness': 0.3}}, {'id': 'edge_id86', 'label': 'height accusation', 'title': \"･ The Queen added that Alice was nearly two miles high.<br>･ The Queen demanded a sentence before the verdict from Alice.<br>･ The Queen ordered Alice's execution.\", 'from': 'node_id89', 'to': 'node_id84', 'arrows': 'to', 'smooth': {'type': 'curvedCW', 'roundness': 0.3}}, {'id': 'edge_id87', 'label': 'evidence update', 'title': 'The White Rabbit updated the Queen that the paper was a set of verses.', 'from': 'node_id88', 'to': 'node_id89', 'arrows': 'to', 'smooth': {'type': 'curvedCW', 'roundness': 0.3}}, {'id': 'edge_id88', 'label': 'attack', 'title': 'The Queen threw an inkstand at Lizard (Bill).', 'from': 'node_id89', 'to': 'node_id87', 'arrows': 'to', 'smooth': {'type': 'curvedCW', 'roundness': 0.3}}, {'id': 'edge_id89', 'label': 'refusal', 'title': \"Alice refused to comply with the Queen's demand.\", 'from': 'node_id84', 'to': 'node_id89', 'arrows': 'to', 'smooth': {'type': 'curvedCW', 'roundness': 0.3}}, {'id': 'edge_id90', 'label': 'awaken', 'title': \"･ Alice's Sister woke Alice up from her dream.<br>･ Alice's Sister comforted Alice after she narrated her dream.\", 'from': 'node_id91', 'to': 'node_id84', 'arrows': 'to', 'smooth': {'type': 'curvedCW', 'roundness': 0.3}}]}]\n"
     ]
    }
   ],
   "source": [
    "print(f'node_list\\n{node_list}')\n",
    "print(f'\\nedge_list\\n{edge_list}')\n",
    "print(f'\\nsummary_list\\n{summary_list}')\n",
    "print(f'\\nchapter_name_list\\n{chapter_name_list}')\n",
    "print(f'\\nsection_name_list\\n{section_name_list}')\n",
    "print(f'\\nsummarized_data\\n{summarized_data}')"
   ]
  },
  {
   "cell_type": "code",
   "execution_count": null,
   "metadata": {},
   "outputs": [],
   "source": []
  }
 ],
 "metadata": {
  "colab": {
   "provenance": []
  },
  "kernelspec": {
   "display_name": "Python 3 (ipykernel)",
   "language": "python",
   "name": "python3"
  },
  "language_info": {
   "codemirror_mode": {
    "name": "ipython",
    "version": 3
   },
   "file_extension": ".py",
   "mimetype": "text/x-python",
   "name": "python",
   "nbconvert_exporter": "python",
   "pygments_lexer": "ipython3",
   "version": "3.8.5"
  }
 },
 "nbformat": 4,
 "nbformat_minor": 1
}
