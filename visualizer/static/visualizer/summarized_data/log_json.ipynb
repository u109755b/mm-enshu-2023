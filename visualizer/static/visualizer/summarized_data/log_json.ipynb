{
 "cells": [
  {
   "cell_type": "markdown",
   "metadata": {
    "id": "rDn05v1o0oHQ"
   },
   "source": [
    "物語IDを選択\n",
    "\n",
    "### 対象物語 (随時追加予定)\n",
    "| gutenbergID | name | #words |\n",
    "| ---- | ---- | ---- |\n",
    "| 18155 | The Story of the Three Little Pigs | 960 |\n",
    "| 1661 | The Adventures of Sherlock Holmes (I. A Scandal in Bohemia) | 8,520 |\n",
    "| 11 |  Alice's Adventures in Wonderland by Lewis Carroll | 26,520 |\n",
    "| 120 | TREASURE ISLAND | 67,870 |\n",
    "| 829 | GULLIVER'S TRAVELS INTO SEVERAL REMOTE NATIONS OF THE WORLD | 105,080 |\n",
    "\n",
    "\n"
   ]
  },
  {
   "cell_type": "code",
   "execution_count": 1,
   "metadata": {},
   "outputs": [],
   "source": [
    "import os\n",
    "os.chdir('log')"
   ]
  },
  {
   "cell_type": "code",
   "execution_count": 2,
   "metadata": {
    "id": "ohJuAfOncUZS"
   },
   "outputs": [],
   "source": [
    "#IDと物語名の辞書を手動で構築しておく\n",
    "story_d={\n",
    "    \"The Story of the Three Little Pigs\":'18155',\n",
    "    \"The Adventures of Sherlock Holmes (I. A Scandal in Bohemia)\":'1661',\n",
    "    \"Alice's Adventures in Wonderland by Lewis Carroll\":'11',\n",
    "    \"TREASURE ISLAND\":'120',\n",
    "    \"GULLIVER'S TRAVELS INTO SEVERAL REMOTE NATIONS OF THE WORLD\":'829',\n",
    "}"
   ]
  },
  {
   "cell_type": "code",
   "execution_count": null,
   "metadata": {
    "id": "LPu2sody0krA"
   },
   "outputs": [],
   "source": [
    "#物語タイトルによりここを変更（手動）\n",
    "title_name=\"The Story of the Three Little Pigs\""
   ]
  },
  {
   "cell_type": "code",
   "execution_count": 4,
   "metadata": {
    "id": "s5foOfkIlwlu"
   },
   "outputs": [],
   "source": [
    "ID=story_d[title_name]"
   ]
  },
  {
   "cell_type": "markdown",
   "metadata": {
    "id": "YxrRDo92CZQM"
   },
   "source": [
    "テキストファイルから情報を抽出  \n",
    "全ての物語でこのプログラムを動かしたら抽出できるようにする"
   ]
  },
  {
   "cell_type": "code",
   "execution_count": 5,
   "metadata": {
    "id": "zJvOMJYsEdrY"
   },
   "outputs": [],
   "source": [
    "#インポート\n",
    "import glob\n",
    "from tqdm import tqdm\n",
    "import itertools\n",
    "import os\n",
    "import json\n",
    "import difflib\n",
    "import Levenshtein\n",
    "import textwrap"
   ]
  },
  {
   "cell_type": "code",
   "execution_count": 6,
   "metadata": {
    "id": "yA7hoOEpIcoF"
   },
   "outputs": [],
   "source": [
    "#可変の変数\n",
    "size_magnification = 30 #サイズの倍率(変数)10 重要度とかける\n",
    "image_min_size=15 #画像の最小サイズ\n",
    "max_edge_label_len=40 #maxのedgeのlabelの文字数を何文字にするか\n",
    "\n",
    "#sample0について実行\n",
    "sample_file='sample0'"
   ]
  },
  {
   "cell_type": "code",
   "execution_count": 7,
   "metadata": {
    "colab": {
     "base_uri": "https://localhost:8080/"
    },
    "id": "AvHlxyVVH3M1",
    "outputId": "bb838116-0a91-4ffd-86d2-8f237ff2674a"
   },
   "outputs": [
    {
     "name": "stdout",
     "output_type": "stream",
     "text": [
      "1\n"
     ]
    }
   ],
   "source": [
    "#事前に変数定義\n",
    "node_list=[]\n",
    "edge_list=[]\n",
    "summary_list=[]\n",
    "chapter_name_list=[]\n",
    "section_name_list=[]\n",
    "miss_node_list=['ミスしたnodeのテキスト番号'] #ミスったノードtxt番号を表示（txtが1行以下）\n",
    "miss_edge_list=['ミスしたedgeのテキスト番号'] #ミスったエッジtxt番号を表示（txtが1行以下）\n",
    "summarized_data=[]\n",
    "\n",
    "section_json_flag=-1\n",
    "\n",
    "\n",
    "#分割数をカウント（divide_count）\n",
    "divide_count=len(glob.glob(f'./{ID}/body_scene*.txt', recursive=False))\n",
    "print(divide_count)"
   ]
  },
  {
   "cell_type": "code",
   "execution_count": 8,
   "metadata": {
    "id": "00UNnwaQIhNG"
   },
   "outputs": [],
   "source": [
    "#chapter_listの作成（章と節がともに存在する場合のみ）\n",
    "#章が何番で区切られているか確認してリストを作成（手作業）(話によって異なる)\n",
    "if ID=='120':\n",
    "  chapter_list=[0,6,12,15,21,27]\n",
    "  section_json_flag=1\n",
    "\n",
    "elif ID=='1661':\n",
    "  chapter_list=[0]\n",
    "  section_json_flag=1\n",
    "\n",
    "elif ID=='829':\n",
    "  #partが一番大きなくくり，次点がchapterなので，part→chapter,chapter→sectionに対応させる\n",
    "  chapter_list=[0,1,2,10,18,29]\n",
    "  section_json_flag=1\n",
    "\n",
    "else:\n",
    "   chapter_list=[0]"
   ]
  },
  {
   "cell_type": "markdown",
   "metadata": {
    "id": "2utF90u8FV0s"
   },
   "source": [
    "# 処理を関数化する"
   ]
  },
  {
   "cell_type": "markdown",
   "metadata": {
    "id": "Yziy-S5hF-d_"
   },
   "source": [
    "## 章，節名の抽出"
   ]
  },
  {
   "cell_type": "markdown",
   "metadata": {
    "id": "35hTEfmZOD2Q"
   },
   "source": [
    "### sectionがある場合"
   ]
  },
  {
   "cell_type": "code",
   "execution_count": 9,
   "metadata": {
    "id": "MYK_u-SrDjgi"
   },
   "outputs": [],
   "source": [
    "#物語ことに処理を追加（手動）\n",
    "\n",
    "def create_section(ID,divide_count,chapter_list,chapter_name_list,section_name_list):\n",
    "  chapter_num=0 #章番号\n",
    "  section_num=0 #節番号\n",
    "\n",
    "  for i in range(divide_count):\n",
    "\n",
    "    #section_nameの決定(IDごとに異なる)\n",
    "    if ID=='120':\n",
    "      chapter_file = open(f'{ID}/body_scene{i}.txt', 'r', encoding=\"utf-8\")\n",
    "      lines = chapter_file.readlines()\n",
    "      #章になっているとき\n",
    "      if i in chapter_list:\n",
    "        chapter_name=lines[0].strip() #ファイルの最初の行をchapter_titleとする\n",
    "        chapter_name_list.append(chapter_name)\n",
    "\n",
    "        #章を更新すると，節の番号はリセット\n",
    "        chapter_num+=1\n",
    "        section_num=1\n",
    "\n",
    "        #章があるときは三行目に節タイトル\n",
    "        section_name=f'chapter{chapter_num}_{section_num} {i+1} {lines[2].strip()}'\n",
    "\n",
    "      else:\n",
    "        #章タイトルがないとき\n",
    "        #節のタイトルは2行目\n",
    "        section_num+=1\n",
    "        section_name=f'chapter{chapter_num}_{section_num} {i+1} {lines[1].strip()}'\n",
    "\n",
    "    elif ID=='1661':\n",
    "      #章になっているとき\n",
    "      if i in chapter_list:\n",
    "        chapter_file = open(f'{ID}/body_scene{i}.txt', 'r', encoding=\"utf-8\")\n",
    "        lines = chapter_file.readlines()\n",
    "        chapter_name=lines[0].strip() #ファイルの最初の行をchapter_titleとする\n",
    "        chapter_name_list.append(chapter_name)\n",
    "        #章を更新すると，節の番号はリセット\n",
    "        chapter_num+=1\n",
    "        section_num=1\n",
    "      #節のタイトルは適当に付ける\n",
    "      section_name=f'section{chapter_num}_{section_num}'\n",
    "      section_num+=1\n",
    "\n",
    "    elif ID=='829':\n",
    "      if i in chapter_list:\n",
    "        chapter_file = open(f'{ID}/body_scene{i}.txt', 'r', encoding=\"utf-8\")\n",
    "        lines = chapter_file.readlines()\n",
    "        chapter_name=lines[0].strip() #ファイルの最初の行をchapter_titleとする\n",
    "        chapter_name_list.append(chapter_name)\n",
    "        #章を更新すると，節の番号はリセット\n",
    "        chapter_num+=1\n",
    "        section_num=1\n",
    "        #0番目と1番目が少し特殊なので場合分け\n",
    "        if i==0 or i==1:\n",
    "          section_name=f'chapter{chapter_num}_{section_num}'\n",
    "        else:\n",
    "          #章があるときは2行目に節タイトル\n",
    "          section_name=f'chapter{chapter_num}_{section_num} {lines[1].strip()}'\n",
    "\n",
    "      else:\n",
    "        # 章タイトルがないとき\n",
    "        #節のタイトルは1行目\n",
    "        section_name=f'chapter{chapter_num}_{section_num} {lines[0].strip()}'\n",
    "        section_num+=1\n",
    "\n",
    "\n",
    "    #節名を追加\n",
    "    section_name_list.append(section_name)"
   ]
  },
  {
   "cell_type": "markdown",
   "metadata": {
    "id": "IQStTTL7GosD"
   },
   "source": [
    "### sectionがない場合"
   ]
  },
  {
   "cell_type": "code",
   "execution_count": 10,
   "metadata": {
    "id": "Wcwoj9qYGvKS"
   },
   "outputs": [],
   "source": [
    "def create_non_section(ID,divide_count,chapter_name_list):\n",
    "  if ID=='18155':\n",
    "    chapter_name_list.append('Chapter1')\n",
    "\n",
    "  else:\n",
    "    for i in range(divide_count):\n",
    "      #chapter_nameの決定\n",
    "      chapter_file = open(f'{ID}/body_scene{i}.txt', 'r', encoding=\"utf-8\")\n",
    "      lines = chapter_file.readlines()\n",
    "      chapter_name=lines[0].strip() #ファイルの最初の行をchapter_titleとする\n",
    "      chapter_name_list.append(chapter_name)"
   ]
  },
  {
   "cell_type": "markdown",
   "metadata": {
    "id": "8MqON6IMJrRP"
   },
   "source": [
    "## nodeとedgeの処理"
   ]
  },
  {
   "cell_type": "code",
   "execution_count": 11,
   "metadata": {
    "id": "GiIQcb9MJPfg"
   },
   "outputs": [],
   "source": [
    "def create_node_edge(ID,divide_count,node_list,edge_list,miss_edge_list,sample_file='sample0',size_magnification =10,image_min_size=20):\n",
    "  node_id_num=0\n",
    "  edge_id_num=0\n",
    "\n",
    "  for i in range(divide_count):\n",
    "    node_list_i=[]\n",
    "    edge_list_i=[]\n",
    "\n",
    "    #nodeについての処理\n",
    "    node_file = open(f'./{ID}/{sample_file}/node_scene{i}.txt', 'r', encoding=\"utf-8\")\n",
    "    lines = node_file.readlines()\n",
    "    \n",
    "    #linesの数が1行or0行の場合　おかしいとみなして警告を出す(miss_node.txt)\n",
    "    if len(lines) < 2:\n",
    "        miss_node_list.append(str(i))\n",
    "        print(f'node_error:{i}')\n",
    "    \n",
    "    \n",
    "    for j in range(len(lines)):\n",
    "      line=lines[j]\n",
    "      #左から分割 https://note.nkmk.me/python-split-rsplit-splitlines-re/\n",
    "      lists = line.split(',',1)\n",
    "\n",
    "      #右から分割\n",
    "      r_lists=lists[1].rsplit(',',1)\n",
    "\n",
    "      #抽出\n",
    "      label = lists[0].strip()\n",
    "      title=r_lists[0].strip()\n",
    "\n",
    "\n",
    "      #重要度がしっかりしていない箇所がある（その場合重要度0）\n",
    "      try:\n",
    "        important_rate=float(r_lists[1].strip())\n",
    "\n",
    "      except ValueError:\n",
    "        important_rate=0\n",
    "\n",
    "      #サイズはimportant_rateを基に決定\n",
    "      size=int(image_min_size+important_rate*size_magnification)\n",
    "\n",
    "      #辞書化する(idは適当に番号文字列)\n",
    "      node_d={\n",
    "          \"id\":f'node_id{node_id_num}',\n",
    "          \"label\":label,\n",
    "          \"title\":title,\n",
    "          \"size\":size,\n",
    "        }\n",
    "\n",
    "      node_list_i.append(node_d)\n",
    "\n",
    "      node_id_num+=1\n",
    "\n",
    "\n",
    "    #nodeの統合処理をするならここで処理\n",
    "\n",
    "    #全体のリストに追加\n",
    "    node_list.append(node_list_i)\n",
    "\n",
    "\n",
    "    #edgeについての処理\n",
    "    edge_file = open(f'./{ID}/{sample_file}/edge_scene{i}.txt', 'r', encoding=\"utf-8\")\n",
    "    lines = edge_file.readlines()\n",
    "    \n",
    "    #linesの数が1行or0行の場合　おかしいとみなして警告を出す(miss_edge.txt)\n",
    "    if len(lines) < 2:\n",
    "        miss_edge_list.append(str(i))\n",
    "        print(f'edge_error:{i}')\n",
    "        \n",
    "\n",
    "    for j in range(len(lines)):\n",
    "      line=lines[j]\n",
    "      #左から分割 https://note.nkmk.me/python-split-rsplit-splitlines-re/\n",
    "      lists = line.split(',',1)\n",
    "\n",
    "      lists2=lists[1].split(',',1)\n",
    "\n",
    "      lists3=lists2[1].split(',',1)\n",
    "\n",
    "\n",
    "      #抽出\n",
    "      edge_from = lists[0].strip()\n",
    "      edge_to = lists2[0].strip()\n",
    "      edge_label=lists3[0].strip()\n",
    "      edge_title=lists3[1].strip()\n",
    "      \n",
    "      #以下edge_labelの例外処理\n",
    "      #edge_labelに / が含まれる場合その前だけ出力\n",
    "      if '/' in edge_label:\n",
    "        edge_label=edge_label.split('/')[0]\n",
    "      #edge_labelに & が含まれる場合その前だけ出力\n",
    "      if '&' in edge_label:\n",
    "        edge_label=edge_label.split('&')[0]\n",
    "      #edge_labelが長すぎる場合に省略(字制限)\n",
    "      edge_label=textwrap.shorten(edge_label, max_edge_label_len, placeholder='~')\n",
    "\n",
    "\n",
    "      #from と to　を示すものが nodeにあるか確認\n",
    "      #あった場合そのidを抽出し，edge_from_idとedge_to_idに与える\n",
    "      from_flag=0\n",
    "      to_flag=0\n",
    "\n",
    "      for k in range(len(node_list_i)):\n",
    "        #node_list_i[k]は辞書を表す\n",
    "        if (from_flag==0) and (node_list_i[k]['label']==edge_from):\n",
    "          edge_from_id= node_list_i[k]['id']\n",
    "          from_flag=1\n",
    "\n",
    "\n",
    "        if (to_flag==0) and (node_list_i[k]['label']==edge_to):\n",
    "          edge_to_id= node_list_i[k]['id']\n",
    "          to_flag=1\n",
    "        \n",
    "        if from_flag ==1 and to_flag==1:\n",
    "            break\n",
    "\n",
    "      #どちらかなかったら近いnodeを探す\n",
    "      if (from_flag==0):\n",
    "        max_similarity = 0\n",
    "        for k in range(len(node_list_i)):  \n",
    "            dist = Levenshtein.jaro_winkler(edge_from,node_list_i[k]['label'])\n",
    "            if max_similarity < dist:\n",
    "                max_similarity=dist\n",
    "                edge_from_id = node_list_i[k]['id']\n",
    "        \n",
    "      if (to_flag==0):\n",
    "         max_similarity = 0\n",
    "         for k in range(len(node_list_i)):  \n",
    "             dist = Levenshtein.jaro_winkler(edge_to,node_list_i[k]['label'])\n",
    "             if max_similarity <= dist:\n",
    "                 max_similarity=dist\n",
    "                 edge_to_id = node_list_i[k]['id']\n",
    "        \n",
    "            \n",
    "        \n",
    "        \n",
    "      #過去に出てきた例とedge_from_idとedge_to_idが完全一致してしまった場合\n",
    "      #edge_labelは最初の1つだけ使用，edge_titleは<br>でくっつける\n",
    "      match_flag=0\n",
    "      for k in range(len(edge_list_i)):\n",
    "        #edge_list_i[k]は辞書を表す\n",
    "        if (edge_list_i[k]['from']==edge_from_id) and (edge_list_i[k]['to']==edge_to_id):\n",
    "            #edge_list_i[k]['label']= f\"{edge_list_i[k]['label']}\\n{edge_label}\"　(labelは最初の一つだけ使うのでコメントアウト)\n",
    "            edge_list_i[k]['title']= f\"{edge_list_i[k]['title']}<br>{edge_title}\"\n",
    "            match_flag=1\n",
    "            break\n",
    "\n",
    "      #過去に出てきた例とedge_from_idとedge_to_idが完全一致しなかった場合\n",
    "      if match_flag==0:\n",
    "        #辞書化する(idは一意の番号文字列,矢印を追加(allows))\n",
    "          edge_d={\n",
    "              \"id\":f'edge_id{edge_id_num}',\n",
    "              \"label\":edge_label,\n",
    "              \"title\":edge_title,\n",
    "              \"from\":edge_from_id,\n",
    "              \"to\":edge_to_id,\n",
    "              \"arrows\": \"to\",\n",
    "            }\n",
    "\n",
    "          #辞書を追加\n",
    "          edge_list_i.append(edge_d)\n",
    "\n",
    "          #edgeのnumを増やす\n",
    "          edge_id_num+=1\n",
    "\n",
    "\n",
    "    #edgeの統合処理をするならここで処理\n",
    "    #edge_list_i内でfrom to と to fromが同じものが存在する場合，矢印をカーブさせる\n",
    "    for pair in itertools.combinations(edge_list_i, 2):\n",
    "      if (pair[0]['from']==pair[1]['to']) and (pair[1]['from']==pair[0]['to']):\n",
    "        f_t=pair[0]['id']\n",
    "        t_f=pair[1]['id']\n",
    "        for j in range(len(edge_list_i)):\n",
    "          if edge_list_i[j]['id']== f_t or t_f:\n",
    "            edge_list_i[j]['smooth']= {\n",
    "                                      \"type\": \"curvedCW\",\n",
    "                                      \"roundness\": 0.3\n",
    "                                  }\n",
    "\n",
    "    #全体のリストに追加\n",
    "    edge_list.append(edge_list_i)"
   ]
  },
  {
   "cell_type": "markdown",
   "metadata": {
    "id": "j1it4CklMHkL"
   },
   "source": [
    "## summaryの処理"
   ]
  },
  {
   "cell_type": "code",
   "execution_count": 12,
   "metadata": {
    "id": "KYJCHZwjLcKK"
   },
   "outputs": [],
   "source": [
    " def create_summary(ID,divide_count,summary_list,sample_file='sample0'):\n",
    "  for i in range(divide_count):\n",
    "    summary_file = open(f'{ID}/{sample_file}/summary.txt', 'r', encoding=\"utf-8\")\n",
    "    lines = summary_file.readlines()\n",
    "    summary=lines[i].strip()\n",
    "    summary_list.append(summary)"
   ]
  },
  {
   "cell_type": "markdown",
   "metadata": {
    "id": "a7EtSU0qPvLx"
   },
   "source": [
    "## 外部ファイルに出力\n"
   ]
  },
  {
   "cell_type": "markdown",
   "metadata": {
    "id": "p6kS_4NqQdY2"
   },
   "source": [
    "### sectionがある場合"
   ]
  },
  {
   "cell_type": "code",
   "execution_count": 13,
   "metadata": {
    "id": "QGxvBwzlQZCY"
   },
   "outputs": [],
   "source": [
    "def section_json(chapter_list,summarized_data):\n",
    "  for i in range(len(chapter_list)):\n",
    "    chapter_summarized_data=[]\n",
    "\n",
    "    #chapterがあるbody_sceneについてその間の節を抜き出していく\n",
    "    if i!=len(chapter_list)-1:\n",
    "      for j in range(chapter_list[i],chapter_list[i+1]):\n",
    "\n",
    "        summarized_file={\n",
    "            \"sectionName\":section_name_list[j],\n",
    "            \"summary\":summary_list[j],\n",
    "            \"nodes\":node_list[j],\n",
    "            \"edges\":edge_list[j],\n",
    "        }\n",
    "\n",
    "        chapter_summarized_data.append(summarized_file)\n",
    "    #chapterがあるbody_sceneについて，最後のchapterからは最後まで\n",
    "    else:\n",
    "      for j in range(chapter_list[i],divide_count):\n",
    "\n",
    "        summarized_file={\n",
    "            \"sectionName\":section_name_list[j],\n",
    "            \"summary\":summary_list[j],\n",
    "            \"nodes\":node_list[j],\n",
    "            \"edges\":edge_list[j],\n",
    "        }\n",
    "\n",
    "        chapter_summarized_data.append(summarized_file)\n",
    "\n",
    "\n",
    "    summarized_folder={\n",
    "        \"sectionName\":chapter_name_list[i],\n",
    "        \"subSection\":chapter_summarized_data,\n",
    "    }\n",
    "\n",
    "    summarized_data.append(summarized_folder)"
   ]
  },
  {
   "cell_type": "markdown",
   "metadata": {
    "id": "bmfSKIe4RlyR"
   },
   "source": [
    "### sectionがない場合"
   ]
  },
  {
   "cell_type": "code",
   "execution_count": 14,
   "metadata": {
    "id": "ftCC0O7JRqlq"
   },
   "outputs": [],
   "source": [
    "def non_section_json(divide_count,summarized_data):\n",
    "  for i in range(divide_count):\n",
    "    summarized_file={\n",
    "        \"sectionName\":chapter_name_list[i],\n",
    "        \"summary\":summary_list[i],\n",
    "        \"nodes\":node_list[i],\n",
    "        \"edges\":edge_list[i],\n",
    "    }\n",
    "\n",
    "    summarized_data.append(summarized_file)"
   ]
  },
  {
   "cell_type": "markdown",
   "metadata": {
    "id": "nMfCZP8aOOKx"
   },
   "source": [
    "# 全体的な処理"
   ]
  },
  {
   "cell_type": "code",
   "execution_count": 15,
   "metadata": {
    "colab": {
     "base_uri": "https://localhost:8080/"
    },
    "id": "HkjsgkKrORBj",
    "outputId": "0ddeac11-f21e-47b3-db51-81a1cbb2440a"
   },
   "outputs": [
    {
     "name": "stdout",
     "output_type": "stream",
     "text": [
      "ID : 18155 title : The Story of the Three Little Pigs\n"
     ]
    }
   ],
   "source": [
    "print(f'ID : {ID} title : {title_name}')\n",
    "\n",
    "if section_json_flag==1:\n",
    "  create_section(ID,divide_count,chapter_list,chapter_name_list,section_name_list)\n",
    "else:\n",
    "  create_non_section(ID,divide_count,chapter_name_list)\n",
    "\n",
    "create_node_edge(ID,divide_count,node_list,edge_list,miss_edge_list,sample_file,size_magnification,image_min_size)\n",
    "\n",
    "create_summary(ID,divide_count,summary_list,sample_file)\n",
    "\n",
    "if section_json_flag==1:\n",
    "  section_json(chapter_list,summarized_data)\n",
    "else:\n",
    "  non_section_json(divide_count,summarized_data)"
   ]
  },
  {
   "cell_type": "markdown",
   "metadata": {
    "id": "q-r1YpNTfoBX"
   },
   "source": [
    "## 保存"
   ]
  },
  {
   "cell_type": "code",
   "execution_count": 16,
   "metadata": {
    "id": "KIda43RJT6EE"
   },
   "outputs": [],
   "source": [
    "new_dir_path_recursive=f'../summarized_data/{ID}/{sample_file}'\n",
    "os.makedirs(new_dir_path_recursive, exist_ok=True)\n",
    "os.chdir(new_dir_path_recursive)"
   ]
  },
  {
   "cell_type": "code",
   "execution_count": 17,
   "metadata": {
    "id": "aariAVqJTU00"
   },
   "outputs": [],
   "source": [
    "with open(\"all_data.json\", \"w\", encoding=\"utf-8\") as f:\n",
    "    json.dump(summarized_data,f,indent=4)\n",
    "f.close()"
   ]
  },
  {
   "cell_type": "code",
   "execution_count": 18,
   "metadata": {
    "id": "tCiV9oCtTU00"
   },
   "outputs": [],
   "source": [
    "#タイトルを含んだtxtの生成\n",
    "with open(\"title.txt\", \"w\", encoding=\"utf-8\") as f:\n",
    "    f.write(title_name)\n",
    "f.close()\n",
    "\n",
    "#一個浅いディレクトリにも作成\n",
    "with open(\"../title.txt\", \"w\", encoding=\"utf-8\") as f:\n",
    "    f.write(title_name)\n",
    "f.close()"
   ]
  },
  {
   "cell_type": "code",
   "execution_count": 19,
   "metadata": {},
   "outputs": [],
   "source": [
    "#ミスったnode_fileのリストの生成\n",
    "with open(\"miss_node.txt\", \"w\", encoding=\"utf-8\") as f:\n",
    "  for d in miss_node_list:\n",
    "    f.write(\"%s\\n\" % str(d))\n",
    "f.close()"
   ]
  },
  {
   "cell_type": "code",
   "execution_count": 20,
   "metadata": {
    "id": "XbQnc_vRTU00"
   },
   "outputs": [],
   "source": [
    "#ミスったedge_fileのリストの生成\n",
    "with open(\"miss_edge.txt\", \"w\", encoding=\"utf-8\") as f:\n",
    "  for d in miss_edge_list:\n",
    "    f.write(\"%s\\n\" % str(d))\n",
    "f.close()"
   ]
  },
  {
   "cell_type": "markdown",
   "metadata": {
    "id": "JX8YLuU3Ppwt"
   },
   "source": [
    "# 出力の確認"
   ]
  },
  {
   "cell_type": "code",
   "execution_count": 21,
   "metadata": {
    "colab": {
     "base_uri": "https://localhost:8080/"
    },
    "id": "6ZpFYcpqPnpB",
    "outputId": "393afe73-2907-4bfb-b1d1-d500ee792666"
   },
   "outputs": [
    {
     "name": "stdout",
     "output_type": "stream",
     "text": [
      "node_list\n",
      "[[{'id': 'node_id0', 'label': 'Old Sow', 'title': 'The mother of the three little pigs, she sent them out to seek their fortune due to lack of resources', 'size': 19}, {'id': 'node_id1', 'label': 'First Little Pig', 'title': 'The pig that built a house of straw and was eaten by the Wolf', 'size': 31}, {'id': 'node_id2', 'label': 'Man with straw', 'title': 'Gave the first little pig straw to build a house', 'size': 18}, {'id': 'node_id3', 'label': 'Wolf', 'title': 'The main antagonist who blew down the houses of straw and furze and ate the first two pigs, failed to destroy the brick house, and was ultimately outsmarted and cooked by the third pig', 'size': 43}, {'id': 'node_id4', 'label': 'Second Little Pig', 'title': 'The pig that built a house of furze and was eaten by the Wolf', 'size': 30}, {'id': 'node_id5', 'label': 'Man with furze', 'title': 'Gave the second little pig furze to build a house', 'size': 18}, {'id': 'node_id6', 'label': 'Third Little Pig', 'title': 'The clever pig that built a brick house, outsmarted the Wolf multiple times, and eventually killed and ate the Wolf', 'size': 43}, {'id': 'node_id7', 'label': 'Man with bricks', 'title': 'Gave the third little pig bricks to build a sturdy house', 'size': 18}]]\n",
      "\n",
      "edge_list\n",
      "[[{'id': 'edge_id0', 'label': 'bore and sent out', 'title': 'Once upon a time there was an old Sow with three little Pigs; As she had not enough to keep them, she sent them out to seek their fortune.', 'from': 'node_id0', 'to': 'node_id1', 'arrows': 'to'}, {'id': 'edge_id1', 'label': 'bore and sent out', 'title': 'Once upon a time there was an old Sow with three little Pigs; As she had not enough to keep them, she sent them out to seek their fortune.', 'from': 'node_id0', 'to': 'node_id4', 'arrows': 'to'}, {'id': 'edge_id2', 'label': 'bore and sent out', 'title': 'Once upon a time there was an old Sow with three little Pigs; As she had not enough to keep them, she sent them out to seek their fortune.', 'from': 'node_id0', 'to': 'node_id6', 'arrows': 'to'}, {'id': 'edge_id3', 'label': 'requested and received straw', 'title': 'The first that went off met a Man with a bundle of straw, and said to him, \"Please, Man, give me that straw to build me a house\"; which the Man did.', 'from': 'node_id1', 'to': 'node_id2', 'arrows': 'to'}, {'id': 'edge_id4', 'label': 'knocked', 'title': 'denied entry, and ate, Presently came along a Wolf, and knocked at the door, and said, \"Little Pig, little Pig, let me come in.\" To which the Pig answered, \"No, no, by the hair of my chinny chin chin.\" So he huffed and he puffed, and he blew his house in, and ate up the little Pig.', 'from': 'node_id3', 'to': 'node_id1', 'arrows': 'to'}, {'id': 'edge_id5', 'label': 'requested and received furze', 'title': 'The second Pig met a Man with a bundle of furze, and said, \"Please, Man, give me that furze to build a house\"; which the Man did.', 'from': 'node_id4', 'to': 'node_id5', 'arrows': 'to'}, {'id': 'edge_id6', 'label': 'knocked', 'title': 'denied entry, and ate, Then along came the Wolf and said, \"Little Pig, little Pig, let me come in.\" \"No, no, by the hair of my chinny chin chin.\" And at last he blew the house down, and ate up the second little Pig.', 'from': 'node_id3', 'to': 'node_id4', 'arrows': 'to'}, {'id': 'edge_id7', 'label': 'requested and received bricks', 'title': 'The third little Pig met a Man with a load of bricks, and said, \"Please, Man, give me those bricks to build a house with\"; so the Man gave him the bricks.', 'from': 'node_id6', 'to': 'node_id7', 'arrows': 'to'}]]\n",
      "\n",
      "summary_list\n",
      "[\"An old sow sends her three pigs out to seek their fortunes. The first pig builds a straw house but is eaten by a wolf after he blows it down. The second pig builds a furze house with a similar fate. The third pig builds a brick house, which the wolf can’t blow down. The pig repeatedly outsmarts the wolf's attempts to catch him and eventually kills the wolf by tricking him into falling into a pot of boiling water, ensuring the pig's survival and happiness.\"]\n",
      "\n",
      "chapter_name_list\n",
      "['Chapter1']\n",
      "\n",
      "section_name_list\n",
      "[]\n",
      "\n",
      "miss_edge_list\n",
      "['ミスしたedgeのテキスト番号']\n",
      "\n",
      "summarized_data\n",
      "[{'sectionName': 'Chapter1', 'summary': \"An old sow sends her three pigs out to seek their fortunes. The first pig builds a straw house but is eaten by a wolf after he blows it down. The second pig builds a furze house with a similar fate. The third pig builds a brick house, which the wolf can’t blow down. The pig repeatedly outsmarts the wolf's attempts to catch him and eventually kills the wolf by tricking him into falling into a pot of boiling water, ensuring the pig's survival and happiness.\", 'nodes': [{'id': 'node_id0', 'label': 'Old Sow', 'title': 'The mother of the three little pigs, she sent them out to seek their fortune due to lack of resources', 'size': 19}, {'id': 'node_id1', 'label': 'First Little Pig', 'title': 'The pig that built a house of straw and was eaten by the Wolf', 'size': 31}, {'id': 'node_id2', 'label': 'Man with straw', 'title': 'Gave the first little pig straw to build a house', 'size': 18}, {'id': 'node_id3', 'label': 'Wolf', 'title': 'The main antagonist who blew down the houses of straw and furze and ate the first two pigs, failed to destroy the brick house, and was ultimately outsmarted and cooked by the third pig', 'size': 43}, {'id': 'node_id4', 'label': 'Second Little Pig', 'title': 'The pig that built a house of furze and was eaten by the Wolf', 'size': 30}, {'id': 'node_id5', 'label': 'Man with furze', 'title': 'Gave the second little pig furze to build a house', 'size': 18}, {'id': 'node_id6', 'label': 'Third Little Pig', 'title': 'The clever pig that built a brick house, outsmarted the Wolf multiple times, and eventually killed and ate the Wolf', 'size': 43}, {'id': 'node_id7', 'label': 'Man with bricks', 'title': 'Gave the third little pig bricks to build a sturdy house', 'size': 18}], 'edges': [{'id': 'edge_id0', 'label': 'bore and sent out', 'title': 'Once upon a time there was an old Sow with three little Pigs; As she had not enough to keep them, she sent them out to seek their fortune.', 'from': 'node_id0', 'to': 'node_id1', 'arrows': 'to'}, {'id': 'edge_id1', 'label': 'bore and sent out', 'title': 'Once upon a time there was an old Sow with three little Pigs; As she had not enough to keep them, she sent them out to seek their fortune.', 'from': 'node_id0', 'to': 'node_id4', 'arrows': 'to'}, {'id': 'edge_id2', 'label': 'bore and sent out', 'title': 'Once upon a time there was an old Sow with three little Pigs; As she had not enough to keep them, she sent them out to seek their fortune.', 'from': 'node_id0', 'to': 'node_id6', 'arrows': 'to'}, {'id': 'edge_id3', 'label': 'requested and received straw', 'title': 'The first that went off met a Man with a bundle of straw, and said to him, \"Please, Man, give me that straw to build me a house\"; which the Man did.', 'from': 'node_id1', 'to': 'node_id2', 'arrows': 'to'}, {'id': 'edge_id4', 'label': 'knocked', 'title': 'denied entry, and ate, Presently came along a Wolf, and knocked at the door, and said, \"Little Pig, little Pig, let me come in.\" To which the Pig answered, \"No, no, by the hair of my chinny chin chin.\" So he huffed and he puffed, and he blew his house in, and ate up the little Pig.', 'from': 'node_id3', 'to': 'node_id1', 'arrows': 'to'}, {'id': 'edge_id5', 'label': 'requested and received furze', 'title': 'The second Pig met a Man with a bundle of furze, and said, \"Please, Man, give me that furze to build a house\"; which the Man did.', 'from': 'node_id4', 'to': 'node_id5', 'arrows': 'to'}, {'id': 'edge_id6', 'label': 'knocked', 'title': 'denied entry, and ate, Then along came the Wolf and said, \"Little Pig, little Pig, let me come in.\" \"No, no, by the hair of my chinny chin chin.\" And at last he blew the house down, and ate up the second little Pig.', 'from': 'node_id3', 'to': 'node_id4', 'arrows': 'to'}, {'id': 'edge_id7', 'label': 'requested and received bricks', 'title': 'The third little Pig met a Man with a load of bricks, and said, \"Please, Man, give me those bricks to build a house with\"; so the Man gave him the bricks.', 'from': 'node_id6', 'to': 'node_id7', 'arrows': 'to'}]}]\n"
     ]
    }
   ],
   "source": [
    "print(f'node_list\\n{node_list}')\n",
    "print(f'\\nedge_list\\n{edge_list}')\n",
    "print(f'\\nsummary_list\\n{summary_list}')\n",
    "print(f'\\nchapter_name_list\\n{chapter_name_list}')\n",
    "print(f'\\nsection_name_list\\n{section_name_list}')\n",
    "print(f'\\nmiss_edge_list\\n{miss_edge_list}')\n",
    "print(f'\\nsummarized_data\\n{summarized_data}')"
   ]
  },
  {
   "cell_type": "code",
   "execution_count": null,
   "metadata": {},
   "outputs": [],
   "source": []
  }
 ],
 "metadata": {
  "colab": {
   "provenance": []
  },
  "kernelspec": {
   "display_name": "Python 3 (ipykernel)",
   "language": "python",
   "name": "python3"
  },
  "language_info": {
   "codemirror_mode": {
    "name": "ipython",
    "version": 3
   },
   "file_extension": ".py",
   "mimetype": "text/x-python",
   "name": "python",
   "nbconvert_exporter": "python",
   "pygments_lexer": "ipython3",
   "version": "3.8.5"
  }
 },
 "nbformat": 4,
 "nbformat_minor": 1
}
