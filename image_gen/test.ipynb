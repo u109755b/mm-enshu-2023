{
 "cells": [
  {
   "cell_type": "code",
   "execution_count": 1,
   "metadata": {},
   "outputs": [],
   "source": [
    "import json\n",
    "import os, sys\n",
    "import subprocess\n",
    "from get_image import fetch_and_save_dalle_image_with_logging"
   ]
  },
  {
   "cell_type": "code",
   "execution_count": 2,
   "metadata": {},
   "outputs": [],
   "source": [
    "# 指定されたディレクトリが存在しない場合は作成する関数\n",
    "def make_dir(path):\n",
    "    if not os.path.exists(path):\n",
    "        os.mkdir(path)"
   ]
  },
  {
   "cell_type": "code",
   "execution_count": 10,
   "metadata": {},
   "outputs": [
    {
     "name": "stdout",
     "output_type": "stream",
     "text": [
      "Section: 第1章 三びきのこぶたの巣立ち\n",
      "SubSection: 第1.1章 長男と次男の家\n",
      "Label: 母さん豚, Title: 三匹の子豚を家から巣立たせ、それぞれの家に招待される。\n",
      "Label: 長男の子豚, Title: なまけもので、簡単に出来る藁の家を作る。\n",
      "Label: 次男の子豚, Title: めんどくさがり屋で、木の家を作る。\n",
      "SubSection: 第1.2章 末のこぶたの家\n",
      "Label: 母さん豚, Title: 三匹の子豚を家から巣立たせ、それぞれの家に招待される。\n",
      "Label: 長男の子豚, Title: なまけもので、簡単に出来る藁の家を作る。\n",
      "Label: 次男の子豚, Title: めんどくさがり屋で、木の家を作る。\n",
      "Label: 末の子豚, Title: 臆病者なので、頑丈なレンガの家を作る。\n",
      "Section: 第2章 オオカミの登場\n",
      "SubSection: 第2.1章 オオカミが2ひきのこぶたを食べる\n",
      "Label: 母さん豚, Title: 三匹の子豚を家から巣立たせ、それぞれの家に招待される。\n",
      "Label: 長男の子豚, Title: なまけもので、簡単に出来る藁の家を作る。\n",
      "Label: 次男の子豚, Title: めんどくさがり屋で、木の家を作る。\n",
      "Label: 末の子豚, Title: 臆病者なので、頑丈なレンガの家を作る。\n",
      "Label: オオカミ, Title: なんとか子豚たちを食べようと頑張る。\n",
      "SubSection: 第2.2章 オオカミvs末のこぶた\n",
      "SubSubSection: 第2.1.1章 オオカミが大怪我を負う\n",
      "Label: 母さん豚, Title: 三匹の子豚を家から巣立たせ、それぞれの家に招待される。\n",
      "Label: 長男の子豚, Title: なまけもので、簡単に出来る藁の家を作る。\n",
      "Label: 次男の子豚, Title: めんどくさがり屋で、木の家を作る。\n",
      "Label: 末の子豚, Title: 臆病者なので、頑丈なレンガの家を作る。\n",
      "Label: オオカミ, Title: なんとか子豚たちを食べようと頑張る。\n",
      "SubSubSection: 第2.2.2章 オオカミを食べる\n",
      "Label: 母さん豚, Title: 三匹の子豚を家から巣立たせ、それぞれの家に招待される。\n",
      "Label: 長男の子豚, Title: なまけもので、簡単に出来る藁の家を作る。\n",
      "Label: 次男の子豚, Title: めんどくさがり屋で、木の家を作る。\n",
      "Label: 末の子豚, Title: 臆病者なので、頑丈なレンガの家を作る。\n",
      "Label: オオカミ, Title: なんとか子豚たちを食べようと頑張る。\n"
     ]
    }
   ],
   "source": [
    "# パスの指定\n",
    "gutenbergID = 18155\n",
    "novel_name = '三匹の子豚'\n",
    "json_path = f'../summarized_data/{gutenbergID}/all_data.json'\n",
    "gen_image_dir = './test_images/'\n",
    "api_key_path = './api_key.txt'\n",
    "\n",
    "make_dir(gen_image_dir)\n",
    "\n",
    "# JSONファイルを読み込む\n",
    "with open(json_path, 'r', encoding='utf-8') as file:\n",
    "    data = json.load(file)\n",
    "    \n",
    "count = 0 # test用のカウント\n",
    "\n",
    "# nodes内のlabelとtitleを表示する\n",
    "for section in data:\n",
    "\n",
    "    print(f\"Section: {section['sectionName']}\")\n",
    "    for subSection in section[\"subSection\"]:\n",
    "        print(f\"SubSection: {subSection['sectionName']}\")\n",
    "        if \"nodes\" in subSection:  # subsectionのとき\n",
    "            for node in subSection[\"nodes\"]:\n",
    "                label = node[\"label\"]\n",
    "                title = node[\"title\"]\n",
    "                print(f\"Label: {label}, Title: {title}\")\n",
    "        else: # subsubsectionのとき\n",
    "            for subSubSection in subSection[\"subSection\"]:\n",
    "                print(f\"SubSubSection: {subSubSection['sectionName']}\")\n",
    "                if \"nodes\" in subSubSection:\n",
    "                    for node in subSubSection[\"nodes\"]:\n",
    "                        label = node[\"label\"]\n",
    "                        title = node[\"title\"]\n",
    "                        print(f\"Label: {label}, Title: {title}\")"
   ]
  },
  {
   "cell_type": "code",
   "execution_count": null,
   "metadata": {},
   "outputs": [],
   "source": [
    "    \n",
    "    # ### test用コード ###\n",
    "    # if section == data[0]:\n",
    "    #     print(f\"Section: {section['sectionName']}\")\n",
    "    #     for subSection in section[\"subSection\"]:\n",
    "    #         print(f\"SubSection: {subSection['sectionName']}\")\n",
    "    #         if \"nodes\" in subSection:  # subsectionのとき\n",
    "    #             for node in subSection[\"nodes\"]:\n",
    "    #                 if count == 0:\n",
    "    #                     print('image generating')\n",
    "    #                     gen_image_path = f\"{gen_image_dir}{novel_name}_{node['title']}.png\"\n",
    "    #                     print(gen_image_path)\n",
    "    #                     command = f\"python3 get_image.py --novel_name {novel_name} --character_name {node['label']} --api_key_path {api_key_path} --image_save_path {gen_image_path} --image_quality low --log_file_path ./log.txt --character_description {node['title']}\"\n",
    "    #                     subprocess.run(command.split(' '))\n",
    "    #                     count += 1\n",
    "    #                 label = node[\"label\"]\n",
    "    #                 title = node[\"title\"]\n",
    "    #                 print(f\"Label: {label}, Title: {title}\")\n",
    "    #         else: # subsubsectionのとき\n",
    "    #             for subSubSection in subSection[\"subSection\"]:\n",
    "    #                 print(f\"SubSubSection: {subSubSection['sectionName']}\")\n",
    "    #                 if \"nodes\" in subSubSection:\n",
    "    #                     for node in subSubSection[\"nodes\"]:\n",
    "    #                         label = node[\"label\"]\n",
    "    #                         title = node[\"title\"]\n",
    "    #                         print(f\"Label: {label}, Title: {title}\")\n",
    "\n",
    "    # ### test用コード ###\n",
    "    # else:\n",
    "    #     continue"
   ]
  }
 ],
 "metadata": {
  "kernelspec": {
   "display_name": "Python 3",
   "language": "python",
   "name": "python3"
  },
  "language_info": {
   "codemirror_mode": {
    "name": "ipython",
    "version": 3
   },
   "file_extension": ".py",
   "mimetype": "text/x-python",
   "name": "python",
   "nbconvert_exporter": "python",
   "pygments_lexer": "ipython3",
   "version": "3.9.0"
  }
 },
 "nbformat": 4,
 "nbformat_minor": 2
}
